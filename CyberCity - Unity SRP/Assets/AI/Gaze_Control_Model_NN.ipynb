{
 "cells": [
  {
   "cell_type": "markdown",
   "id": "a066b96d",
   "metadata": {},
   "source": [
    "## Dependencies"
   ]
  },
  {
   "cell_type": "code",
   "execution_count": 8,
   "id": "b1807f57",
   "metadata": {},
   "outputs": [],
   "source": [
    "import pandas as pd\n",
    "from sklearn.model_selection import train_test_split\n",
    "import numpy as np\n",
    "import tensorflow as tf\n",
    "from tensorflow.keras import layers, models\n",
    "from tensorflow.keras.models import model_from_json\n",
    "from tensorflow.keras.optimizers import Adam\n",
    "import tf2onnx"
   ]
  },
  {
   "cell_type": "markdown",
   "id": "764b2e5f",
   "metadata": {},
   "source": [
    "## Loading Data"
   ]
  },
  {
   "cell_type": "code",
   "execution_count": 9,
   "id": "1fb9cc79",
   "metadata": {},
   "outputs": [],
   "source": [
    "# Load features into a DataFrame\n",
    "features_df = pd.read_csv(\"SaliencyLog.csv\")"
   ]
  },
  {
   "cell_type": "code",
   "execution_count": 10,
   "id": "533249fd",
   "metadata": {},
   "outputs": [
    {
     "name": "stdout",
     "output_type": "stream",
     "text": [
      "   Frame  ObjectID   PosX   PosY    PosZ  Motion  AngularVelocity  Proximity  \\\n",
      "0      1        11  12.47  11.09  -13.35  0.0000              0.0     0.3585   \n",
      "1      1         8  24.87  41.89  -65.80  0.0000              0.0     0.5811   \n",
      "2      1         1 -85.66  68.10   98.33  0.9996              0.0     0.9893   \n",
      "3      1         6   9.50   0.54  114.49  0.5034              0.0     0.2668   \n",
      "4      1         4  48.11   0.60  114.20  0.9991              0.0     0.3413   \n",
      "\n",
      "    Color  Luminance  IsBest  \n",
      "0  0.1716     0.0043       0  \n",
      "1  0.1133     0.0927       0  \n",
      "2  0.6870     0.7089       0  \n",
      "3  0.6870     0.7089       0  \n",
      "4  0.2227     0.1050       0  \n"
     ]
    }
   ],
   "source": [
    "# Features Head\n",
    "print(features_df.head())"
   ]
  },
  {
   "cell_type": "code",
   "execution_count": 11,
   "id": "bbfb3532",
   "metadata": {},
   "outputs": [
    {
     "data": {
      "text/html": [
       "<div>\n",
       "<style scoped>\n",
       "    .dataframe tbody tr th:only-of-type {\n",
       "        vertical-align: middle;\n",
       "    }\n",
       "\n",
       "    .dataframe tbody tr th {\n",
       "        vertical-align: top;\n",
       "    }\n",
       "\n",
       "    .dataframe thead th {\n",
       "        text-align: right;\n",
       "    }\n",
       "</style>\n",
       "<table border=\"1\" class=\"dataframe\">\n",
       "  <thead>\n",
       "    <tr style=\"text-align: right;\">\n",
       "      <th></th>\n",
       "      <th>Frame</th>\n",
       "      <th>ObjectID</th>\n",
       "      <th>PosX</th>\n",
       "      <th>PosY</th>\n",
       "      <th>PosZ</th>\n",
       "      <th>Motion</th>\n",
       "      <th>AngularVelocity</th>\n",
       "      <th>Proximity</th>\n",
       "      <th>Color</th>\n",
       "      <th>Luminance</th>\n",
       "      <th>IsBest</th>\n",
       "    </tr>\n",
       "  </thead>\n",
       "  <tbody>\n",
       "    <tr>\n",
       "      <th>count</th>\n",
       "      <td>2379.000000</td>\n",
       "      <td>2379.000000</td>\n",
       "      <td>2379.000000</td>\n",
       "      <td>2379.000000</td>\n",
       "      <td>2379.000000</td>\n",
       "      <td>2379.000000</td>\n",
       "      <td>2379.000000</td>\n",
       "      <td>2379.000000</td>\n",
       "      <td>2379.000000</td>\n",
       "      <td>2379.000000</td>\n",
       "      <td>2379.000000</td>\n",
       "    </tr>\n",
       "    <tr>\n",
       "      <th>mean</th>\n",
       "      <td>92.000000</td>\n",
       "      <td>6.000000</td>\n",
       "      <td>27.049172</td>\n",
       "      <td>22.682278</td>\n",
       "      <td>-9.094758</td>\n",
       "      <td>0.312094</td>\n",
       "      <td>0.015990</td>\n",
       "      <td>0.492446</td>\n",
       "      <td>0.355409</td>\n",
       "      <td>0.282466</td>\n",
       "      <td>0.076923</td>\n",
       "    </tr>\n",
       "    <tr>\n",
       "      <th>std</th>\n",
       "      <td>52.837867</td>\n",
       "      <td>3.742444</td>\n",
       "      <td>42.357332</td>\n",
       "      <td>23.447462</td>\n",
       "      <td>90.523311</td>\n",
       "      <td>0.297348</td>\n",
       "      <td>0.059494</td>\n",
       "      <td>0.319735</td>\n",
       "      <td>0.226760</td>\n",
       "      <td>0.289883</td>\n",
       "      <td>0.266525</td>\n",
       "    </tr>\n",
       "    <tr>\n",
       "      <th>min</th>\n",
       "      <td>1.000000</td>\n",
       "      <td>0.000000</td>\n",
       "      <td>-85.660000</td>\n",
       "      <td>0.170000</td>\n",
       "      <td>-241.400000</td>\n",
       "      <td>0.000000</td>\n",
       "      <td>0.000000</td>\n",
       "      <td>0.000000</td>\n",
       "      <td>0.000000</td>\n",
       "      <td>0.000000</td>\n",
       "      <td>0.000000</td>\n",
       "    </tr>\n",
       "    <tr>\n",
       "      <th>25%</th>\n",
       "      <td>46.000000</td>\n",
       "      <td>3.000000</td>\n",
       "      <td>6.050000</td>\n",
       "      <td>0.640000</td>\n",
       "      <td>-46.070000</td>\n",
       "      <td>0.000000</td>\n",
       "      <td>0.000000</td>\n",
       "      <td>0.155900</td>\n",
       "      <td>0.222700</td>\n",
       "      <td>0.092700</td>\n",
       "      <td>0.000000</td>\n",
       "    </tr>\n",
       "    <tr>\n",
       "      <th>50%</th>\n",
       "      <td>92.000000</td>\n",
       "      <td>6.000000</td>\n",
       "      <td>24.360000</td>\n",
       "      <td>12.310000</td>\n",
       "      <td>-13.350000</td>\n",
       "      <td>0.487600</td>\n",
       "      <td>0.002500</td>\n",
       "      <td>0.408300</td>\n",
       "      <td>0.234600</td>\n",
       "      <td>0.105000</td>\n",
       "      <td>0.000000</td>\n",
       "    </tr>\n",
       "    <tr>\n",
       "      <th>75%</th>\n",
       "      <td>138.000000</td>\n",
       "      <td>9.000000</td>\n",
       "      <td>57.915000</td>\n",
       "      <td>35.500000</td>\n",
       "      <td>40.210000</td>\n",
       "      <td>0.596400</td>\n",
       "      <td>0.012600</td>\n",
       "      <td>0.715900</td>\n",
       "      <td>0.687000</td>\n",
       "      <td>0.708900</td>\n",
       "      <td>0.000000</td>\n",
       "    </tr>\n",
       "    <tr>\n",
       "      <th>max</th>\n",
       "      <td>183.000000</td>\n",
       "      <td>12.000000</td>\n",
       "      <td>129.660000</td>\n",
       "      <td>68.100000</td>\n",
       "      <td>212.710000</td>\n",
       "      <td>0.999600</td>\n",
       "      <td>0.971000</td>\n",
       "      <td>0.995100</td>\n",
       "      <td>0.687000</td>\n",
       "      <td>0.708900</td>\n",
       "      <td>1.000000</td>\n",
       "    </tr>\n",
       "  </tbody>\n",
       "</table>\n",
       "</div>"
      ],
      "text/plain": [
       "             Frame     ObjectID         PosX         PosY         PosZ  \\\n",
       "count  2379.000000  2379.000000  2379.000000  2379.000000  2379.000000   \n",
       "mean     92.000000     6.000000    27.049172    22.682278    -9.094758   \n",
       "std      52.837867     3.742444    42.357332    23.447462    90.523311   \n",
       "min       1.000000     0.000000   -85.660000     0.170000  -241.400000   \n",
       "25%      46.000000     3.000000     6.050000     0.640000   -46.070000   \n",
       "50%      92.000000     6.000000    24.360000    12.310000   -13.350000   \n",
       "75%     138.000000     9.000000    57.915000    35.500000    40.210000   \n",
       "max     183.000000    12.000000   129.660000    68.100000   212.710000   \n",
       "\n",
       "            Motion  AngularVelocity    Proximity        Color    Luminance  \\\n",
       "count  2379.000000      2379.000000  2379.000000  2379.000000  2379.000000   \n",
       "mean      0.312094         0.015990     0.492446     0.355409     0.282466   \n",
       "std       0.297348         0.059494     0.319735     0.226760     0.289883   \n",
       "min       0.000000         0.000000     0.000000     0.000000     0.000000   \n",
       "25%       0.000000         0.000000     0.155900     0.222700     0.092700   \n",
       "50%       0.487600         0.002500     0.408300     0.234600     0.105000   \n",
       "75%       0.596400         0.012600     0.715900     0.687000     0.708900   \n",
       "max       0.999600         0.971000     0.995100     0.687000     0.708900   \n",
       "\n",
       "            IsBest  \n",
       "count  2379.000000  \n",
       "mean      0.076923  \n",
       "std       0.266525  \n",
       "min       0.000000  \n",
       "25%       0.000000  \n",
       "50%       0.000000  \n",
       "75%       0.000000  \n",
       "max       1.000000  "
      ]
     },
     "execution_count": 11,
     "metadata": {},
     "output_type": "execute_result"
    }
   ],
   "source": [
    "# Features info\n",
    "features_df.describe()"
   ]
  },
  {
   "cell_type": "code",
   "execution_count": 12,
   "id": "3beb1550",
   "metadata": {},
   "outputs": [
    {
     "data": {
      "text/plain": [
       "Frame              0\n",
       "ObjectID           0\n",
       "PosX               0\n",
       "PosY               0\n",
       "PosZ               0\n",
       "Motion             0\n",
       "AngularVelocity    0\n",
       "Proximity          0\n",
       "Color              0\n",
       "Luminance          0\n",
       "IsBest             0\n",
       "dtype: int64"
      ]
     },
     "execution_count": 12,
     "metadata": {},
     "output_type": "execute_result"
    }
   ],
   "source": [
    "# Finding nulls\n",
    "features_df.isna().sum()"
   ]
  },
  {
   "cell_type": "code",
   "execution_count": 13,
   "id": "6afa3cb8",
   "metadata": {},
   "outputs": [
    {
     "data": {
      "text/plain": [
       "Frame                int64\n",
       "ObjectID             int64\n",
       "PosX               float64\n",
       "PosY               float64\n",
       "PosZ               float64\n",
       "Motion             float64\n",
       "AngularVelocity    float64\n",
       "Proximity          float64\n",
       "Color              float64\n",
       "Luminance          float64\n",
       "IsBest               int64\n",
       "dtype: object"
      ]
     },
     "execution_count": 13,
     "metadata": {},
     "output_type": "execute_result"
    }
   ],
   "source": [
    "# Getting data types of cols\n",
    "features_df.dtypes"
   ]
  },
  {
   "cell_type": "code",
   "execution_count": 14,
   "id": "b1b1c34d",
   "metadata": {},
   "outputs": [],
   "source": [
    "# Load targets into a DataFrame\n",
    "targets_df = pd.read_csv(\"SaliencyLogOutput.csv\")"
   ]
  },
  {
   "cell_type": "code",
   "execution_count": 15,
   "id": "99bb5680",
   "metadata": {},
   "outputs": [
    {
     "name": "stdout",
     "output_type": "stream",
     "text": [
      "     Frame  BodyForwardX  BodyForwardY  BodyForwardZ  HeadForwardX  \\\n",
      "178    179          0.71           0.0         -0.71          0.97   \n",
      "179    180          0.71           0.0         -0.71          0.97   \n",
      "180    181          0.71           0.0         -0.71          0.97   \n",
      "181    182          0.71           0.0         -0.71          0.97   \n",
      "182    183          0.71           0.0         -0.71          0.96   \n",
      "\n",
      "     HeadForwardY  HeadForwardZ  \n",
      "178         -0.02         -0.23  \n",
      "179         -0.02         -0.24  \n",
      "180         -0.02         -0.25  \n",
      "181         -0.02         -0.26  \n",
      "182         -0.02         -0.27  \n"
     ]
    }
   ],
   "source": [
    "# Targets Head\n",
    "print(targets_df.tail())"
   ]
  },
  {
   "cell_type": "code",
   "execution_count": 16,
   "id": "8d6b4f21",
   "metadata": {},
   "outputs": [
    {
     "data": {
      "text/html": [
       "<div>\n",
       "<style scoped>\n",
       "    .dataframe tbody tr th:only-of-type {\n",
       "        vertical-align: middle;\n",
       "    }\n",
       "\n",
       "    .dataframe tbody tr th {\n",
       "        vertical-align: top;\n",
       "    }\n",
       "\n",
       "    .dataframe thead th {\n",
       "        text-align: right;\n",
       "    }\n",
       "</style>\n",
       "<table border=\"1\" class=\"dataframe\">\n",
       "  <thead>\n",
       "    <tr style=\"text-align: right;\">\n",
       "      <th></th>\n",
       "      <th>Frame</th>\n",
       "      <th>BodyForwardX</th>\n",
       "      <th>BodyForwardY</th>\n",
       "      <th>BodyForwardZ</th>\n",
       "      <th>HeadForwardX</th>\n",
       "      <th>HeadForwardY</th>\n",
       "      <th>HeadForwardZ</th>\n",
       "    </tr>\n",
       "  </thead>\n",
       "  <tbody>\n",
       "    <tr>\n",
       "      <th>count</th>\n",
       "      <td>183.000000</td>\n",
       "      <td>1.830000e+02</td>\n",
       "      <td>183.0</td>\n",
       "      <td>1.830000e+02</td>\n",
       "      <td>183.000000</td>\n",
       "      <td>183.000000</td>\n",
       "      <td>183.000000</td>\n",
       "    </tr>\n",
       "    <tr>\n",
       "      <th>mean</th>\n",
       "      <td>92.000000</td>\n",
       "      <td>7.100000e-01</td>\n",
       "      <td>0.0</td>\n",
       "      <td>-7.100000e-01</td>\n",
       "      <td>0.556721</td>\n",
       "      <td>0.115628</td>\n",
       "      <td>-0.513989</td>\n",
       "    </tr>\n",
       "    <tr>\n",
       "      <th>std</th>\n",
       "      <td>52.971691</td>\n",
       "      <td>1.113269e-16</td>\n",
       "      <td>0.0</td>\n",
       "      <td>1.113269e-16</td>\n",
       "      <td>0.491108</td>\n",
       "      <td>0.170292</td>\n",
       "      <td>0.377566</td>\n",
       "    </tr>\n",
       "    <tr>\n",
       "      <th>min</th>\n",
       "      <td>1.000000</td>\n",
       "      <td>7.100000e-01</td>\n",
       "      <td>0.0</td>\n",
       "      <td>-7.100000e-01</td>\n",
       "      <td>-0.440000</td>\n",
       "      <td>-0.260000</td>\n",
       "      <td>-1.000000</td>\n",
       "    </tr>\n",
       "    <tr>\n",
       "      <th>25%</th>\n",
       "      <td>46.500000</td>\n",
       "      <td>7.100000e-01</td>\n",
       "      <td>0.0</td>\n",
       "      <td>-7.100000e-01</td>\n",
       "      <td>-0.110000</td>\n",
       "      <td>-0.020000</td>\n",
       "      <td>-0.960000</td>\n",
       "    </tr>\n",
       "    <tr>\n",
       "      <th>50%</th>\n",
       "      <td>92.000000</td>\n",
       "      <td>7.100000e-01</td>\n",
       "      <td>0.0</td>\n",
       "      <td>-7.100000e-01</td>\n",
       "      <td>0.860000</td>\n",
       "      <td>0.130000</td>\n",
       "      <td>-0.410000</td>\n",
       "    </tr>\n",
       "    <tr>\n",
       "      <th>75%</th>\n",
       "      <td>137.500000</td>\n",
       "      <td>7.100000e-01</td>\n",
       "      <td>0.0</td>\n",
       "      <td>-7.100000e-01</td>\n",
       "      <td>0.980000</td>\n",
       "      <td>0.240000</td>\n",
       "      <td>-0.165000</td>\n",
       "    </tr>\n",
       "    <tr>\n",
       "      <th>max</th>\n",
       "      <td>183.000000</td>\n",
       "      <td>7.100000e-01</td>\n",
       "      <td>0.0</td>\n",
       "      <td>-7.100000e-01</td>\n",
       "      <td>1.000000</td>\n",
       "      <td>0.550000</td>\n",
       "      <td>0.060000</td>\n",
       "    </tr>\n",
       "  </tbody>\n",
       "</table>\n",
       "</div>"
      ],
      "text/plain": [
       "            Frame  BodyForwardX  BodyForwardY  BodyForwardZ  HeadForwardX  \\\n",
       "count  183.000000  1.830000e+02         183.0  1.830000e+02    183.000000   \n",
       "mean    92.000000  7.100000e-01           0.0 -7.100000e-01      0.556721   \n",
       "std     52.971691  1.113269e-16           0.0  1.113269e-16      0.491108   \n",
       "min      1.000000  7.100000e-01           0.0 -7.100000e-01     -0.440000   \n",
       "25%     46.500000  7.100000e-01           0.0 -7.100000e-01     -0.110000   \n",
       "50%     92.000000  7.100000e-01           0.0 -7.100000e-01      0.860000   \n",
       "75%    137.500000  7.100000e-01           0.0 -7.100000e-01      0.980000   \n",
       "max    183.000000  7.100000e-01           0.0 -7.100000e-01      1.000000   \n",
       "\n",
       "       HeadForwardY  HeadForwardZ  \n",
       "count    183.000000    183.000000  \n",
       "mean       0.115628     -0.513989  \n",
       "std        0.170292      0.377566  \n",
       "min       -0.260000     -1.000000  \n",
       "25%       -0.020000     -0.960000  \n",
       "50%        0.130000     -0.410000  \n",
       "75%        0.240000     -0.165000  \n",
       "max        0.550000      0.060000  "
      ]
     },
     "execution_count": 16,
     "metadata": {},
     "output_type": "execute_result"
    }
   ],
   "source": [
    "# Targets Info\n",
    "targets_df.describe()"
   ]
  },
  {
   "cell_type": "code",
   "execution_count": 17,
   "id": "aa1f19cf",
   "metadata": {},
   "outputs": [
    {
     "data": {
      "text/plain": [
       "Frame           0\n",
       "BodyForwardX    0\n",
       "BodyForwardY    0\n",
       "BodyForwardZ    0\n",
       "HeadForwardX    0\n",
       "HeadForwardY    0\n",
       "HeadForwardZ    0\n",
       "dtype: int64"
      ]
     },
     "execution_count": 17,
     "metadata": {},
     "output_type": "execute_result"
    }
   ],
   "source": [
    "# Finding nulls\n",
    "targets_df.isna().sum()"
   ]
  },
  {
   "cell_type": "code",
   "execution_count": 18,
   "id": "8836e513",
   "metadata": {},
   "outputs": [
    {
     "data": {
      "text/plain": [
       "Frame             int64\n",
       "BodyForwardX    float64\n",
       "BodyForwardY    float64\n",
       "BodyForwardZ    float64\n",
       "HeadForwardX    float64\n",
       "HeadForwardY    float64\n",
       "HeadForwardZ    float64\n",
       "dtype: object"
      ]
     },
     "execution_count": 18,
     "metadata": {},
     "output_type": "execute_result"
    }
   ],
   "source": [
    "# Getting data types of cols\n",
    "targets_df.dtypes"
   ]
  },
  {
   "cell_type": "markdown",
   "id": "a038e6b5",
   "metadata": {},
   "source": [
    "## Data Seperation"
   ]
  },
  {
   "cell_type": "code",
   "execution_count": 19,
   "id": "fd11b279",
   "metadata": {},
   "outputs": [],
   "source": [
    "# Columns to cut\n",
    "cols_to_move = [\"BodyForwardX\", \"BodyForwardY\", \"BodyForwardZ\"]\n",
    "subset = targets_df[cols_to_move]"
   ]
  },
  {
   "cell_type": "code",
   "execution_count": 20,
   "id": "d8b8d419",
   "metadata": {},
   "outputs": [],
   "source": [
    "# Repeat each row 13 times\n",
    "subset_repeated = subset.loc[np.repeat(subset.index, 13)].reset_index(drop=True)"
   ]
  },
  {
   "cell_type": "code",
   "execution_count": 21,
   "id": "e6a9fa4c",
   "metadata": {},
   "outputs": [],
   "source": [
    "# Paste into df2 (side by side or append depending on your need)\n",
    "# --- if you want to append as new columns (must match row count in df2) ---\n",
    "features_df = pd.concat([features_df.reset_index(drop=True), subset_repeated], axis=1)"
   ]
  },
  {
   "cell_type": "code",
   "execution_count": 22,
   "id": "e9b7c033",
   "metadata": {},
   "outputs": [],
   "source": [
    "targets_df = targets_df.drop(columns=cols_to_move)"
   ]
  },
  {
   "cell_type": "code",
   "execution_count": 23,
   "id": "45076bf5",
   "metadata": {},
   "outputs": [
    {
     "name": "stdout",
     "output_type": "stream",
     "text": [
      "      Frame  ObjectID   PosX   PosY    PosZ  Motion  AngularVelocity  \\\n",
      "2374    183         5  -6.35   0.64  -56.07  0.5747           0.0014   \n",
      "2375    183         0   6.00   0.60  107.32  0.5317           0.0030   \n",
      "2376    183         2  57.92  17.00  -60.35  0.6501           0.0194   \n",
      "2377    183        10 -14.35  12.31  -33.39  0.0000           0.0000   \n",
      "2378    183         9  35.60   8.55   11.97  0.0000           0.0000   \n",
      "\n",
      "      Proximity   Color  Luminance  IsBest  BodyForwardX  BodyForwardY  \\\n",
      "2374     0.1278  0.2227     0.1050       0          0.71           0.0   \n",
      "2375     0.0944  0.2227     0.1050       0          0.71           0.0   \n",
      "2376     0.3991  0.1221     0.0338       0          0.71           0.0   \n",
      "2377     0.3073  0.6870     0.7089       0          0.71           0.0   \n",
      "2378     0.1559  0.3187     0.0203       0          0.71           0.0   \n",
      "\n",
      "      BodyForwardZ  \n",
      "2374         -0.71  \n",
      "2375         -0.71  \n",
      "2376         -0.71  \n",
      "2377         -0.71  \n",
      "2378         -0.71  \n"
     ]
    }
   ],
   "source": [
    "# Features Head\n",
    "print(features_df.tail())"
   ]
  },
  {
   "cell_type": "code",
   "execution_count": 24,
   "id": "317b2341",
   "metadata": {},
   "outputs": [
    {
     "name": "stdout",
     "output_type": "stream",
     "text": [
      "     Frame  HeadForwardX  HeadForwardY  HeadForwardZ\n",
      "178    179          0.97         -0.02         -0.23\n",
      "179    180          0.97         -0.02         -0.24\n",
      "180    181          0.97         -0.02         -0.25\n",
      "181    182          0.97         -0.02         -0.26\n",
      "182    183          0.96         -0.02         -0.27\n"
     ]
    }
   ],
   "source": [
    "# Targets Head\n",
    "print(targets_df.tail())"
   ]
  },
  {
   "cell_type": "code",
   "execution_count": 25,
   "id": "2bc52a8f",
   "metadata": {},
   "outputs": [],
   "source": [
    "# Split targets and features\n",
    "features = [\"PosX\", \"PosY\", \"PosZ\", \"Motion\", \"AngularVelocity\", \"Proximity\", \"Color\", \"Luminance\", \"BodyForwardX\", \"BodyForwardY\", \"BodyForwardZ\"]\n",
    "targets = [\"IsBest\", \"HeadForwardX\", \"HeadForwardY\", \"HeadForwardZ\"]"
   ]
  },
  {
   "cell_type": "code",
   "execution_count": 26,
   "id": "3451f63e",
   "metadata": {},
   "outputs": [],
   "source": [
    "pivot_data = []\n",
    "for frame, group in features_df.groupby(\"Frame\"):\n",
    "    row = {\"Frame\": frame}\n",
    "    for _, obj in group.iterrows():\n",
    "        for feat in features:\n",
    "            row[f\"Obj{obj['ObjectID']}_{feat}\"] = obj[feat]\n",
    "    \n",
    "    # Check if IsBest==1 exists\n",
    "    best = group.loc[group[\"IsBest\"] == 1, \"ObjectID\"].values\n",
    "    if len(best) > 0:\n",
    "        row[\"Label\"] = best[0]\n",
    "    else:\n",
    "        row[\"Label\"] = 0 \n",
    "    \n",
    "    pivot_data.append(row)\n",
    "\n",
    "pivot_df = pd.DataFrame(pivot_data)"
   ]
  },
  {
   "cell_type": "code",
   "execution_count": 27,
   "id": "7f0ff4f9",
   "metadata": {},
   "outputs": [],
   "source": [
    "# Merge with regression targets\n",
    "pivot_df[\"Frame\"] = pivot_df[\"Frame\"].astype(int)\n",
    "targets_df[\"Frame\"] = targets_df[\"Frame\"].astype(int)\n",
    "\n",
    "pivot_df = pivot_df.merge(targets_df, on=\"Frame\")"
   ]
  },
  {
   "cell_type": "markdown",
   "id": "0e8c3b36",
   "metadata": {},
   "source": [
    "## Train-Test-Split"
   ]
  },
  {
   "cell_type": "code",
   "execution_count": 28,
   "id": "2439693e",
   "metadata": {},
   "outputs": [],
   "source": [
    "# Prepare data\n",
    "X = pivot_df.drop([\"Frame\", \"Label\", \"HeadForwardX\", \"HeadForwardY\", \"HeadForwardZ\"], axis=1)\n",
    "y_class = pivot_df[\"Label\"]\n",
    "y_reg = pivot_df[[\"HeadForwardX\", \"HeadForwardY\", \"HeadForwardZ\"]]"
   ]
  },
  {
   "cell_type": "code",
   "execution_count": 29,
   "id": "28fd0209",
   "metadata": {},
   "outputs": [
    {
     "data": {
      "text/html": [
       "<div>\n",
       "<style scoped>\n",
       "    .dataframe tbody tr th:only-of-type {\n",
       "        vertical-align: middle;\n",
       "    }\n",
       "\n",
       "    .dataframe tbody tr th {\n",
       "        vertical-align: top;\n",
       "    }\n",
       "\n",
       "    .dataframe thead th {\n",
       "        text-align: right;\n",
       "    }\n",
       "</style>\n",
       "<table border=\"1\" class=\"dataframe\">\n",
       "  <thead>\n",
       "    <tr style=\"text-align: right;\">\n",
       "      <th></th>\n",
       "      <th>Obj11.0_PosX</th>\n",
       "      <th>Obj11.0_PosY</th>\n",
       "      <th>Obj11.0_PosZ</th>\n",
       "      <th>Obj11.0_Motion</th>\n",
       "      <th>Obj11.0_AngularVelocity</th>\n",
       "      <th>Obj11.0_Proximity</th>\n",
       "      <th>Obj11.0_Color</th>\n",
       "      <th>Obj11.0_Luminance</th>\n",
       "      <th>Obj11.0_BodyForwardX</th>\n",
       "      <th>Obj11.0_BodyForwardY</th>\n",
       "      <th>...</th>\n",
       "      <th>Obj9.0_PosY</th>\n",
       "      <th>Obj9.0_PosZ</th>\n",
       "      <th>Obj9.0_Motion</th>\n",
       "      <th>Obj9.0_AngularVelocity</th>\n",
       "      <th>Obj9.0_Proximity</th>\n",
       "      <th>Obj9.0_Color</th>\n",
       "      <th>Obj9.0_Luminance</th>\n",
       "      <th>Obj9.0_BodyForwardX</th>\n",
       "      <th>Obj9.0_BodyForwardY</th>\n",
       "      <th>Obj9.0_BodyForwardZ</th>\n",
       "    </tr>\n",
       "  </thead>\n",
       "  <tbody>\n",
       "    <tr>\n",
       "      <th>0</th>\n",
       "      <td>12.47</td>\n",
       "      <td>11.09</td>\n",
       "      <td>-13.35</td>\n",
       "      <td>0.0</td>\n",
       "      <td>0.0</td>\n",
       "      <td>0.3585</td>\n",
       "      <td>0.1716</td>\n",
       "      <td>0.0043</td>\n",
       "      <td>0.71</td>\n",
       "      <td>0.0</td>\n",
       "      <td>...</td>\n",
       "      <td>8.55</td>\n",
       "      <td>11.97</td>\n",
       "      <td>0.0</td>\n",
       "      <td>0.0</td>\n",
       "      <td>0.1559</td>\n",
       "      <td>0.3187</td>\n",
       "      <td>0.0203</td>\n",
       "      <td>0.71</td>\n",
       "      <td>0.0</td>\n",
       "      <td>-0.71</td>\n",
       "    </tr>\n",
       "    <tr>\n",
       "      <th>1</th>\n",
       "      <td>12.47</td>\n",
       "      <td>11.09</td>\n",
       "      <td>-13.35</td>\n",
       "      <td>0.0</td>\n",
       "      <td>0.0</td>\n",
       "      <td>0.3585</td>\n",
       "      <td>0.1716</td>\n",
       "      <td>0.0043</td>\n",
       "      <td>0.71</td>\n",
       "      <td>0.0</td>\n",
       "      <td>...</td>\n",
       "      <td>8.55</td>\n",
       "      <td>11.97</td>\n",
       "      <td>0.0</td>\n",
       "      <td>0.0</td>\n",
       "      <td>0.1559</td>\n",
       "      <td>0.3187</td>\n",
       "      <td>0.0203</td>\n",
       "      <td>0.71</td>\n",
       "      <td>0.0</td>\n",
       "      <td>-0.71</td>\n",
       "    </tr>\n",
       "    <tr>\n",
       "      <th>2</th>\n",
       "      <td>12.47</td>\n",
       "      <td>11.09</td>\n",
       "      <td>-13.35</td>\n",
       "      <td>0.0</td>\n",
       "      <td>0.0</td>\n",
       "      <td>0.3585</td>\n",
       "      <td>0.1716</td>\n",
       "      <td>0.0043</td>\n",
       "      <td>0.71</td>\n",
       "      <td>0.0</td>\n",
       "      <td>...</td>\n",
       "      <td>8.55</td>\n",
       "      <td>11.97</td>\n",
       "      <td>0.0</td>\n",
       "      <td>0.0</td>\n",
       "      <td>0.1559</td>\n",
       "      <td>0.3187</td>\n",
       "      <td>0.0203</td>\n",
       "      <td>0.71</td>\n",
       "      <td>0.0</td>\n",
       "      <td>-0.71</td>\n",
       "    </tr>\n",
       "    <tr>\n",
       "      <th>3</th>\n",
       "      <td>12.47</td>\n",
       "      <td>11.09</td>\n",
       "      <td>-13.35</td>\n",
       "      <td>0.0</td>\n",
       "      <td>0.0</td>\n",
       "      <td>0.3585</td>\n",
       "      <td>0.1716</td>\n",
       "      <td>0.0043</td>\n",
       "      <td>0.71</td>\n",
       "      <td>0.0</td>\n",
       "      <td>...</td>\n",
       "      <td>8.55</td>\n",
       "      <td>11.97</td>\n",
       "      <td>0.0</td>\n",
       "      <td>0.0</td>\n",
       "      <td>0.1559</td>\n",
       "      <td>0.3187</td>\n",
       "      <td>0.0203</td>\n",
       "      <td>0.71</td>\n",
       "      <td>0.0</td>\n",
       "      <td>-0.71</td>\n",
       "    </tr>\n",
       "    <tr>\n",
       "      <th>4</th>\n",
       "      <td>12.47</td>\n",
       "      <td>11.09</td>\n",
       "      <td>-13.35</td>\n",
       "      <td>0.0</td>\n",
       "      <td>0.0</td>\n",
       "      <td>0.3585</td>\n",
       "      <td>0.1716</td>\n",
       "      <td>0.0043</td>\n",
       "      <td>0.71</td>\n",
       "      <td>0.0</td>\n",
       "      <td>...</td>\n",
       "      <td>8.55</td>\n",
       "      <td>11.97</td>\n",
       "      <td>0.0</td>\n",
       "      <td>0.0</td>\n",
       "      <td>0.1559</td>\n",
       "      <td>0.3187</td>\n",
       "      <td>0.0203</td>\n",
       "      <td>0.71</td>\n",
       "      <td>0.0</td>\n",
       "      <td>-0.71</td>\n",
       "    </tr>\n",
       "  </tbody>\n",
       "</table>\n",
       "<p>5 rows × 143 columns</p>\n",
       "</div>"
      ],
      "text/plain": [
       "   Obj11.0_PosX  Obj11.0_PosY  Obj11.0_PosZ  Obj11.0_Motion  \\\n",
       "0         12.47         11.09        -13.35             0.0   \n",
       "1         12.47         11.09        -13.35             0.0   \n",
       "2         12.47         11.09        -13.35             0.0   \n",
       "3         12.47         11.09        -13.35             0.0   \n",
       "4         12.47         11.09        -13.35             0.0   \n",
       "\n",
       "   Obj11.0_AngularVelocity  Obj11.0_Proximity  Obj11.0_Color  \\\n",
       "0                      0.0             0.3585         0.1716   \n",
       "1                      0.0             0.3585         0.1716   \n",
       "2                      0.0             0.3585         0.1716   \n",
       "3                      0.0             0.3585         0.1716   \n",
       "4                      0.0             0.3585         0.1716   \n",
       "\n",
       "   Obj11.0_Luminance  Obj11.0_BodyForwardX  Obj11.0_BodyForwardY  ...  \\\n",
       "0             0.0043                  0.71                   0.0  ...   \n",
       "1             0.0043                  0.71                   0.0  ...   \n",
       "2             0.0043                  0.71                   0.0  ...   \n",
       "3             0.0043                  0.71                   0.0  ...   \n",
       "4             0.0043                  0.71                   0.0  ...   \n",
       "\n",
       "   Obj9.0_PosY  Obj9.0_PosZ  Obj9.0_Motion  Obj9.0_AngularVelocity  \\\n",
       "0         8.55        11.97            0.0                     0.0   \n",
       "1         8.55        11.97            0.0                     0.0   \n",
       "2         8.55        11.97            0.0                     0.0   \n",
       "3         8.55        11.97            0.0                     0.0   \n",
       "4         8.55        11.97            0.0                     0.0   \n",
       "\n",
       "   Obj9.0_Proximity  Obj9.0_Color  Obj9.0_Luminance  Obj9.0_BodyForwardX  \\\n",
       "0            0.1559        0.3187            0.0203                 0.71   \n",
       "1            0.1559        0.3187            0.0203                 0.71   \n",
       "2            0.1559        0.3187            0.0203                 0.71   \n",
       "3            0.1559        0.3187            0.0203                 0.71   \n",
       "4            0.1559        0.3187            0.0203                 0.71   \n",
       "\n",
       "   Obj9.0_BodyForwardY  Obj9.0_BodyForwardZ  \n",
       "0                  0.0                -0.71  \n",
       "1                  0.0                -0.71  \n",
       "2                  0.0                -0.71  \n",
       "3                  0.0                -0.71  \n",
       "4                  0.0                -0.71  \n",
       "\n",
       "[5 rows x 143 columns]"
      ]
     },
     "execution_count": 29,
     "metadata": {},
     "output_type": "execute_result"
    }
   ],
   "source": [
    "# Printing head\n",
    "X.head()"
   ]
  },
  {
   "cell_type": "code",
   "execution_count": 30,
   "id": "47cb4847",
   "metadata": {},
   "outputs": [],
   "source": [
    "# Train/test split\n",
    "X_train, X_test, y_class_train, y_class_test, y_reg_train, y_reg_test = train_test_split(\n",
    "    X, y_class, y_reg, test_size=0.2, random_state=42\n",
    ")"
   ]
  },
  {
   "cell_type": "markdown",
   "id": "a2f459db",
   "metadata": {},
   "source": [
    "## CLASSIFICATION MODEL"
   ]
  },
  {
   "cell_type": "markdown",
   "id": "175c0d18",
   "metadata": {},
   "source": [
    "## Model Training"
   ]
  },
  {
   "cell_type": "code",
   "execution_count": 31,
   "id": "69e71085",
   "metadata": {},
   "outputs": [],
   "source": [
    "# Classification model\n",
    "clf_model = models.Sequential([\n",
    "    layers.Input(shape=(X.shape[1],)),\n",
    "    layers.Dense(128, activation=\"relu\"),\n",
    "    layers.Dropout(0.3),\n",
    "    layers.Dense(64, activation=\"relu\"),\n",
    "    layers.Dense(13, activation=\"softmax\")  # softmax for classification\n",
    "])"
   ]
  },
  {
   "cell_type": "code",
   "execution_count": 32,
   "id": "713f35e2",
   "metadata": {},
   "outputs": [],
   "source": [
    "# Create Adam optimizer with custom learning rate\n",
    "adam_optimizer = Adam(learning_rate=0.001)  # 0.001 is default\n",
    "\n",
    "# Compile the model\n",
    "clf_model.compile(optimizer=adam_optimizer,\n",
    "                  loss=\"sparse_categorical_crossentropy\",\n",
    "                  metrics=[\"accuracy\"])"
   ]
  },
  {
   "cell_type": "code",
   "execution_count": 33,
   "id": "bf538c2c",
   "metadata": {},
   "outputs": [
    {
     "data": {
      "text/html": [
       "<pre style=\"white-space:pre;overflow-x:auto;line-height:normal;font-family:Menlo,'DejaVu Sans Mono',consolas,'Courier New',monospace\"><span style=\"font-weight: bold\">Model: \"sequential\"</span>\n",
       "</pre>\n"
      ],
      "text/plain": [
       "\u001b[1mModel: \"sequential\"\u001b[0m\n"
      ]
     },
     "metadata": {},
     "output_type": "display_data"
    },
    {
     "data": {
      "text/html": [
       "<pre style=\"white-space:pre;overflow-x:auto;line-height:normal;font-family:Menlo,'DejaVu Sans Mono',consolas,'Courier New',monospace\">┏━━━━━━━━━━━━━━━━━━━━━━━━━━━━━━━━━━━━━━┳━━━━━━━━━━━━━━━━━━━━━━━━━━━━━┳━━━━━━━━━━━━━━━━━┓\n",
       "┃<span style=\"font-weight: bold\"> Layer (type)                         </span>┃<span style=\"font-weight: bold\"> Output Shape                </span>┃<span style=\"font-weight: bold\">         Param # </span>┃\n",
       "┡━━━━━━━━━━━━━━━━━━━━━━━━━━━━━━━━━━━━━━╇━━━━━━━━━━━━━━━━━━━━━━━━━━━━━╇━━━━━━━━━━━━━━━━━┩\n",
       "│ dense (<span style=\"color: #0087ff; text-decoration-color: #0087ff\">Dense</span>)                        │ (<span style=\"color: #00d7ff; text-decoration-color: #00d7ff\">None</span>, <span style=\"color: #00af00; text-decoration-color: #00af00\">128</span>)                 │          <span style=\"color: #00af00; text-decoration-color: #00af00\">18,432</span> │\n",
       "├──────────────────────────────────────┼─────────────────────────────┼─────────────────┤\n",
       "│ dropout (<span style=\"color: #0087ff; text-decoration-color: #0087ff\">Dropout</span>)                    │ (<span style=\"color: #00d7ff; text-decoration-color: #00d7ff\">None</span>, <span style=\"color: #00af00; text-decoration-color: #00af00\">128</span>)                 │               <span style=\"color: #00af00; text-decoration-color: #00af00\">0</span> │\n",
       "├──────────────────────────────────────┼─────────────────────────────┼─────────────────┤\n",
       "│ dense_1 (<span style=\"color: #0087ff; text-decoration-color: #0087ff\">Dense</span>)                      │ (<span style=\"color: #00d7ff; text-decoration-color: #00d7ff\">None</span>, <span style=\"color: #00af00; text-decoration-color: #00af00\">64</span>)                  │           <span style=\"color: #00af00; text-decoration-color: #00af00\">8,256</span> │\n",
       "├──────────────────────────────────────┼─────────────────────────────┼─────────────────┤\n",
       "│ dense_2 (<span style=\"color: #0087ff; text-decoration-color: #0087ff\">Dense</span>)                      │ (<span style=\"color: #00d7ff; text-decoration-color: #00d7ff\">None</span>, <span style=\"color: #00af00; text-decoration-color: #00af00\">13</span>)                  │             <span style=\"color: #00af00; text-decoration-color: #00af00\">845</span> │\n",
       "└──────────────────────────────────────┴─────────────────────────────┴─────────────────┘\n",
       "</pre>\n"
      ],
      "text/plain": [
       "┏━━━━━━━━━━━━━━━━━━━━━━━━━━━━━━━━━━━━━━┳━━━━━━━━━━━━━━━━━━━━━━━━━━━━━┳━━━━━━━━━━━━━━━━━┓\n",
       "┃\u001b[1m \u001b[0m\u001b[1mLayer (type)                        \u001b[0m\u001b[1m \u001b[0m┃\u001b[1m \u001b[0m\u001b[1mOutput Shape               \u001b[0m\u001b[1m \u001b[0m┃\u001b[1m \u001b[0m\u001b[1m        Param #\u001b[0m\u001b[1m \u001b[0m┃\n",
       "┡━━━━━━━━━━━━━━━━━━━━━━━━━━━━━━━━━━━━━━╇━━━━━━━━━━━━━━━━━━━━━━━━━━━━━╇━━━━━━━━━━━━━━━━━┩\n",
       "│ dense (\u001b[38;5;33mDense\u001b[0m)                        │ (\u001b[38;5;45mNone\u001b[0m, \u001b[38;5;34m128\u001b[0m)                 │          \u001b[38;5;34m18,432\u001b[0m │\n",
       "├──────────────────────────────────────┼─────────────────────────────┼─────────────────┤\n",
       "│ dropout (\u001b[38;5;33mDropout\u001b[0m)                    │ (\u001b[38;5;45mNone\u001b[0m, \u001b[38;5;34m128\u001b[0m)                 │               \u001b[38;5;34m0\u001b[0m │\n",
       "├──────────────────────────────────────┼─────────────────────────────┼─────────────────┤\n",
       "│ dense_1 (\u001b[38;5;33mDense\u001b[0m)                      │ (\u001b[38;5;45mNone\u001b[0m, \u001b[38;5;34m64\u001b[0m)                  │           \u001b[38;5;34m8,256\u001b[0m │\n",
       "├──────────────────────────────────────┼─────────────────────────────┼─────────────────┤\n",
       "│ dense_2 (\u001b[38;5;33mDense\u001b[0m)                      │ (\u001b[38;5;45mNone\u001b[0m, \u001b[38;5;34m13\u001b[0m)                  │             \u001b[38;5;34m845\u001b[0m │\n",
       "└──────────────────────────────────────┴─────────────────────────────┴─────────────────┘\n"
      ]
     },
     "metadata": {},
     "output_type": "display_data"
    },
    {
     "data": {
      "text/html": [
       "<pre style=\"white-space:pre;overflow-x:auto;line-height:normal;font-family:Menlo,'DejaVu Sans Mono',consolas,'Courier New',monospace\"><span style=\"font-weight: bold\"> Total params: </span><span style=\"color: #00af00; text-decoration-color: #00af00\">27,533</span> (107.55 KB)\n",
       "</pre>\n"
      ],
      "text/plain": [
       "\u001b[1m Total params: \u001b[0m\u001b[38;5;34m27,533\u001b[0m (107.55 KB)\n"
      ]
     },
     "metadata": {},
     "output_type": "display_data"
    },
    {
     "data": {
      "text/html": [
       "<pre style=\"white-space:pre;overflow-x:auto;line-height:normal;font-family:Menlo,'DejaVu Sans Mono',consolas,'Courier New',monospace\"><span style=\"font-weight: bold\"> Trainable params: </span><span style=\"color: #00af00; text-decoration-color: #00af00\">27,533</span> (107.55 KB)\n",
       "</pre>\n"
      ],
      "text/plain": [
       "\u001b[1m Trainable params: \u001b[0m\u001b[38;5;34m27,533\u001b[0m (107.55 KB)\n"
      ]
     },
     "metadata": {},
     "output_type": "display_data"
    },
    {
     "data": {
      "text/html": [
       "<pre style=\"white-space:pre;overflow-x:auto;line-height:normal;font-family:Menlo,'DejaVu Sans Mono',consolas,'Courier New',monospace\"><span style=\"font-weight: bold\"> Non-trainable params: </span><span style=\"color: #00af00; text-decoration-color: #00af00\">0</span> (0.00 B)\n",
       "</pre>\n"
      ],
      "text/plain": [
       "\u001b[1m Non-trainable params: \u001b[0m\u001b[38;5;34m0\u001b[0m (0.00 B)\n"
      ]
     },
     "metadata": {},
     "output_type": "display_data"
    }
   ],
   "source": [
    "# Model Parameters\n",
    "clf_model.summary()"
   ]
  },
  {
   "cell_type": "code",
   "execution_count": 34,
   "id": "83d7f6fb",
   "metadata": {},
   "outputs": [],
   "source": [
    "# Convert to numpy, enforce int32, flatten to 1D\n",
    "y_class_train = y_class_train.to_numpy().astype(\"int32\").reshape(-1,)\n",
    "y_class_test  = y_class_test.to_numpy().astype(\"int32\").reshape(-1,)"
   ]
  },
  {
   "cell_type": "code",
   "execution_count": 35,
   "id": "32f73293",
   "metadata": {},
   "outputs": [
    {
     "name": "stdout",
     "output_type": "stream",
     "text": [
      "(146,) int32\n",
      "(37,) int32\n"
     ]
    }
   ],
   "source": [
    "print(y_class_train.shape, y_class_train.dtype)\n",
    "print(y_class_test.shape, y_class_test.dtype)"
   ]
  },
  {
   "cell_type": "code",
   "execution_count": 36,
   "id": "86346bd6",
   "metadata": {
    "scrolled": false
   },
   "outputs": [
    {
     "name": "stdout",
     "output_type": "stream",
     "text": [
      "Epoch 1/75\n",
      "\u001b[1m5/5\u001b[0m \u001b[32m━━━━━━━━━━━━━━━━━━━━\u001b[0m\u001b[37m\u001b[0m \u001b[1m2s\u001b[0m 62ms/step - accuracy: 0.3268 - loss: 27.7533 - val_accuracy: 0.8378 - val_loss: 2.0476\n",
      "Epoch 2/75\n",
      "\u001b[1m5/5\u001b[0m \u001b[32m━━━━━━━━━━━━━━━━━━━━\u001b[0m\u001b[37m\u001b[0m \u001b[1m0s\u001b[0m 18ms/step - accuracy: 0.4795 - loss: 11.3233 - val_accuracy: 0.7027 - val_loss: 3.1671\n",
      "Epoch 3/75\n",
      "\u001b[1m5/5\u001b[0m \u001b[32m━━━━━━━━━━━━━━━━━━━━\u001b[0m\u001b[37m\u001b[0m \u001b[1m0s\u001b[0m 21ms/step - accuracy: 0.6609 - loss: 6.0979 - val_accuracy: 0.8108 - val_loss: 2.3330\n",
      "Epoch 4/75\n",
      "\u001b[1m5/5\u001b[0m \u001b[32m━━━━━━━━━━━━━━━━━━━━\u001b[0m\u001b[37m\u001b[0m \u001b[1m0s\u001b[0m 17ms/step - accuracy: 0.7518 - loss: 5.5582 - val_accuracy: 0.8378 - val_loss: 1.5187\n",
      "Epoch 5/75\n",
      "\u001b[1m5/5\u001b[0m \u001b[32m━━━━━━━━━━━━━━━━━━━━\u001b[0m\u001b[37m\u001b[0m \u001b[1m0s\u001b[0m 17ms/step - accuracy: 0.7927 - loss: 3.8231 - val_accuracy: 0.8919 - val_loss: 1.2023\n",
      "Epoch 6/75\n",
      "\u001b[1m5/5\u001b[0m \u001b[32m━━━━━━━━━━━━━━━━━━━━\u001b[0m\u001b[37m\u001b[0m \u001b[1m0s\u001b[0m 17ms/step - accuracy: 0.6331 - loss: 5.9779 - val_accuracy: 0.8649 - val_loss: 0.8877\n",
      "Epoch 7/75\n",
      "\u001b[1m5/5\u001b[0m \u001b[32m━━━━━━━━━━━━━━━━━━━━\u001b[0m\u001b[37m\u001b[0m \u001b[1m0s\u001b[0m 17ms/step - accuracy: 0.7299 - loss: 4.7534 - val_accuracy: 0.8919 - val_loss: 0.4417\n",
      "Epoch 8/75\n",
      "\u001b[1m5/5\u001b[0m \u001b[32m━━━━━━━━━━━━━━━━━━━━\u001b[0m\u001b[37m\u001b[0m \u001b[1m0s\u001b[0m 17ms/step - accuracy: 0.7471 - loss: 4.4388 - val_accuracy: 0.9189 - val_loss: 0.6771\n",
      "Epoch 9/75\n",
      "\u001b[1m5/5\u001b[0m \u001b[32m━━━━━━━━━━━━━━━━━━━━\u001b[0m\u001b[37m\u001b[0m \u001b[1m0s\u001b[0m 17ms/step - accuracy: 0.7813 - loss: 2.8348 - val_accuracy: 0.8919 - val_loss: 0.9055\n",
      "Epoch 10/75\n",
      "\u001b[1m5/5\u001b[0m \u001b[32m━━━━━━━━━━━━━━━━━━━━\u001b[0m\u001b[37m\u001b[0m \u001b[1m0s\u001b[0m 17ms/step - accuracy: 0.8190 - loss: 2.7654 - val_accuracy: 0.8649 - val_loss: 1.2391\n",
      "Epoch 11/75\n",
      "\u001b[1m5/5\u001b[0m \u001b[32m━━━━━━━━━━━━━━━━━━━━\u001b[0m\u001b[37m\u001b[0m \u001b[1m0s\u001b[0m 17ms/step - accuracy: 0.7593 - loss: 2.9266 - val_accuracy: 0.8378 - val_loss: 1.1509\n",
      "Epoch 12/75\n",
      "\u001b[1m5/5\u001b[0m \u001b[32m━━━━━━━━━━━━━━━━━━━━\u001b[0m\u001b[37m\u001b[0m \u001b[1m0s\u001b[0m 18ms/step - accuracy: 0.8110 - loss: 1.7306 - val_accuracy: 0.8919 - val_loss: 0.9536\n",
      "Epoch 13/75\n",
      "\u001b[1m5/5\u001b[0m \u001b[32m━━━━━━━━━━━━━━━━━━━━\u001b[0m\u001b[37m\u001b[0m \u001b[1m0s\u001b[0m 17ms/step - accuracy: 0.8037 - loss: 1.6961 - val_accuracy: 0.9189 - val_loss: 0.8885\n",
      "Epoch 14/75\n",
      "\u001b[1m5/5\u001b[0m \u001b[32m━━━━━━━━━━━━━━━━━━━━\u001b[0m\u001b[37m\u001b[0m \u001b[1m0s\u001b[0m 16ms/step - accuracy: 0.7955 - loss: 2.8619 - val_accuracy: 0.9189 - val_loss: 0.4455\n",
      "Epoch 15/75\n",
      "\u001b[1m5/5\u001b[0m \u001b[32m━━━━━━━━━━━━━━━━━━━━\u001b[0m\u001b[37m\u001b[0m \u001b[1m0s\u001b[0m 28ms/step - accuracy: 0.8477 - loss: 1.3869 - val_accuracy: 0.9459 - val_loss: 0.3888\n",
      "Epoch 16/75\n",
      "\u001b[1m5/5\u001b[0m \u001b[32m━━━━━━━━━━━━━━━━━━━━\u001b[0m\u001b[37m\u001b[0m \u001b[1m0s\u001b[0m 24ms/step - accuracy: 0.8739 - loss: 1.3182 - val_accuracy: 0.9459 - val_loss: 0.3087\n",
      "Epoch 17/75\n",
      "\u001b[1m5/5\u001b[0m \u001b[32m━━━━━━━━━━━━━━━━━━━━\u001b[0m\u001b[37m\u001b[0m \u001b[1m0s\u001b[0m 19ms/step - accuracy: 0.8266 - loss: 1.3388 - val_accuracy: 0.9189 - val_loss: 0.4041\n",
      "Epoch 18/75\n",
      "\u001b[1m5/5\u001b[0m \u001b[32m━━━━━━━━━━━━━━━━━━━━\u001b[0m\u001b[37m\u001b[0m \u001b[1m0s\u001b[0m 21ms/step - accuracy: 0.7965 - loss: 1.4242 - val_accuracy: 0.9189 - val_loss: 0.5509\n",
      "Epoch 19/75\n",
      "\u001b[1m5/5\u001b[0m \u001b[32m━━━━━━━━━━━━━━━━━━━━\u001b[0m\u001b[37m\u001b[0m \u001b[1m0s\u001b[0m 17ms/step - accuracy: 0.7677 - loss: 1.2788 - val_accuracy: 0.9459 - val_loss: 0.5645\n",
      "Epoch 20/75\n",
      "\u001b[1m5/5\u001b[0m \u001b[32m━━━━━━━━━━━━━━━━━━━━\u001b[0m\u001b[37m\u001b[0m \u001b[1m0s\u001b[0m 17ms/step - accuracy: 0.8940 - loss: 1.0952 - val_accuracy: 0.9459 - val_loss: 0.5973\n",
      "Epoch 21/75\n",
      "\u001b[1m5/5\u001b[0m \u001b[32m━━━━━━━━━━━━━━━━━━━━\u001b[0m\u001b[37m\u001b[0m \u001b[1m0s\u001b[0m 17ms/step - accuracy: 0.8138 - loss: 1.5495 - val_accuracy: 0.9189 - val_loss: 0.4539\n",
      "Epoch 22/75\n",
      "\u001b[1m5/5\u001b[0m \u001b[32m━━━━━━━━━━━━━━━━━━━━\u001b[0m\u001b[37m\u001b[0m \u001b[1m0s\u001b[0m 17ms/step - accuracy: 0.7873 - loss: 1.7093 - val_accuracy: 0.9189 - val_loss: 0.3295\n",
      "Epoch 23/75\n",
      "\u001b[1m5/5\u001b[0m \u001b[32m━━━━━━━━━━━━━━━━━━━━\u001b[0m\u001b[37m\u001b[0m \u001b[1m0s\u001b[0m 18ms/step - accuracy: 0.8342 - loss: 1.2976 - val_accuracy: 0.8919 - val_loss: 0.3727\n",
      "Epoch 24/75\n",
      "\u001b[1m5/5\u001b[0m \u001b[32m━━━━━━━━━━━━━━━━━━━━\u001b[0m\u001b[37m\u001b[0m \u001b[1m0s\u001b[0m 21ms/step - accuracy: 0.8734 - loss: 0.8494 - val_accuracy: 0.9189 - val_loss: 0.4917\n",
      "Epoch 25/75\n",
      "\u001b[1m5/5\u001b[0m \u001b[32m━━━━━━━━━━━━━━━━━━━━\u001b[0m\u001b[37m\u001b[0m \u001b[1m0s\u001b[0m 21ms/step - accuracy: 0.7968 - loss: 1.5143 - val_accuracy: 0.9189 - val_loss: 0.4520\n",
      "Epoch 26/75\n",
      "\u001b[1m5/5\u001b[0m \u001b[32m━━━━━━━━━━━━━━━━━━━━\u001b[0m\u001b[37m\u001b[0m \u001b[1m0s\u001b[0m 20ms/step - accuracy: 0.8744 - loss: 1.2282 - val_accuracy: 0.9189 - val_loss: 0.4528\n",
      "Epoch 27/75\n",
      "\u001b[1m5/5\u001b[0m \u001b[32m━━━━━━━━━━━━━━━━━━━━\u001b[0m\u001b[37m\u001b[0m \u001b[1m0s\u001b[0m 22ms/step - accuracy: 0.8498 - loss: 1.1275 - val_accuracy: 0.9189 - val_loss: 0.2606\n",
      "Epoch 28/75\n",
      "\u001b[1m5/5\u001b[0m \u001b[32m━━━━━━━━━━━━━━━━━━━━\u001b[0m\u001b[37m\u001b[0m \u001b[1m0s\u001b[0m 22ms/step - accuracy: 0.8190 - loss: 1.0952 - val_accuracy: 0.9189 - val_loss: 0.1978\n",
      "Epoch 29/75\n",
      "\u001b[1m5/5\u001b[0m \u001b[32m━━━━━━━━━━━━━━━━━━━━\u001b[0m\u001b[37m\u001b[0m \u001b[1m0s\u001b[0m 18ms/step - accuracy: 0.8967 - loss: 0.5286 - val_accuracy: 0.9189 - val_loss: 0.1944\n",
      "Epoch 30/75\n",
      "\u001b[1m5/5\u001b[0m \u001b[32m━━━━━━━━━━━━━━━━━━━━\u001b[0m\u001b[37m\u001b[0m \u001b[1m0s\u001b[0m 17ms/step - accuracy: 0.7934 - loss: 1.4784 - val_accuracy: 0.9459 - val_loss: 0.1288\n",
      "Epoch 31/75\n",
      "\u001b[1m5/5\u001b[0m \u001b[32m━━━━━━━━━━━━━━━━━━━━\u001b[0m\u001b[37m\u001b[0m \u001b[1m0s\u001b[0m 19ms/step - accuracy: 0.8403 - loss: 0.9890 - val_accuracy: 0.9189 - val_loss: 0.1434\n",
      "Epoch 32/75\n",
      "\u001b[1m5/5\u001b[0m \u001b[32m━━━━━━━━━━━━━━━━━━━━\u001b[0m\u001b[37m\u001b[0m \u001b[1m0s\u001b[0m 17ms/step - accuracy: 0.8620 - loss: 0.7042 - val_accuracy: 0.9189 - val_loss: 0.1628\n",
      "Epoch 33/75\n",
      "\u001b[1m5/5\u001b[0m \u001b[32m━━━━━━━━━━━━━━━━━━━━\u001b[0m\u001b[37m\u001b[0m \u001b[1m0s\u001b[0m 17ms/step - accuracy: 0.9327 - loss: 0.4695 - val_accuracy: 0.9189 - val_loss: 0.1939\n",
      "Epoch 34/75\n",
      "\u001b[1m5/5\u001b[0m \u001b[32m━━━━━━━━━━━━━━━━━━━━\u001b[0m\u001b[37m\u001b[0m \u001b[1m0s\u001b[0m 20ms/step - accuracy: 0.8568 - loss: 0.9015 - val_accuracy: 0.9189 - val_loss: 0.1593\n",
      "Epoch 35/75\n",
      "\u001b[1m5/5\u001b[0m \u001b[32m━━━━━━━━━━━━━━━━━━━━\u001b[0m\u001b[37m\u001b[0m \u001b[1m0s\u001b[0m 25ms/step - accuracy: 0.7823 - loss: 1.0707 - val_accuracy: 0.9189 - val_loss: 0.1867\n",
      "Epoch 36/75\n",
      "\u001b[1m5/5\u001b[0m \u001b[32m━━━━━━━━━━━━━━━━━━━━\u001b[0m\u001b[37m\u001b[0m \u001b[1m0s\u001b[0m 18ms/step - accuracy: 0.8484 - loss: 0.7839 - val_accuracy: 0.8919 - val_loss: 0.2227\n",
      "Epoch 37/75\n",
      "\u001b[1m5/5\u001b[0m \u001b[32m━━━━━━━━━━━━━━━━━━━━\u001b[0m\u001b[37m\u001b[0m \u001b[1m0s\u001b[0m 17ms/step - accuracy: 0.8809 - loss: 0.6712 - val_accuracy: 0.9459 - val_loss: 0.1691\n",
      "Epoch 38/75\n",
      "\u001b[1m5/5\u001b[0m \u001b[32m━━━━━━━━━━━━━━━━━━━━\u001b[0m\u001b[37m\u001b[0m \u001b[1m0s\u001b[0m 21ms/step - accuracy: 0.8827 - loss: 0.6188 - val_accuracy: 0.9189 - val_loss: 0.1505\n",
      "Epoch 39/75\n",
      "\u001b[1m5/5\u001b[0m \u001b[32m━━━━━━━━━━━━━━━━━━━━\u001b[0m\u001b[37m\u001b[0m \u001b[1m0s\u001b[0m 18ms/step - accuracy: 0.8495 - loss: 0.8152 - val_accuracy: 0.9730 - val_loss: 0.1327\n",
      "Epoch 40/75\n",
      "\u001b[1m5/5\u001b[0m \u001b[32m━━━━━━━━━━━━━━━━━━━━\u001b[0m\u001b[37m\u001b[0m \u001b[1m0s\u001b[0m 16ms/step - accuracy: 0.8630 - loss: 0.5618 - val_accuracy: 0.9189 - val_loss: 0.1463\n",
      "Epoch 41/75\n",
      "\u001b[1m5/5\u001b[0m \u001b[32m━━━━━━━━━━━━━━━━━━━━\u001b[0m\u001b[37m\u001b[0m \u001b[1m0s\u001b[0m 19ms/step - accuracy: 0.8269 - loss: 0.9759 - val_accuracy: 0.9189 - val_loss: 0.1757\n",
      "Epoch 42/75\n",
      "\u001b[1m5/5\u001b[0m \u001b[32m━━━━━━━━━━━━━━━━━━━━\u001b[0m\u001b[37m\u001b[0m \u001b[1m0s\u001b[0m 17ms/step - accuracy: 0.8473 - loss: 0.9123 - val_accuracy: 0.9189 - val_loss: 0.2231\n",
      "Epoch 43/75\n",
      "\u001b[1m5/5\u001b[0m \u001b[32m━━━━━━━━━━━━━━━━━━━━\u001b[0m\u001b[37m\u001b[0m \u001b[1m0s\u001b[0m 16ms/step - accuracy: 0.8581 - loss: 0.5302 - val_accuracy: 0.9189 - val_loss: 0.4029\n",
      "Epoch 44/75\n",
      "\u001b[1m5/5\u001b[0m \u001b[32m━━━━━━━━━━━━━━━━━━━━\u001b[0m\u001b[37m\u001b[0m \u001b[1m0s\u001b[0m 17ms/step - accuracy: 0.8545 - loss: 0.7158 - val_accuracy: 0.9189 - val_loss: 0.2448\n",
      "Epoch 45/75\n",
      "\u001b[1m5/5\u001b[0m \u001b[32m━━━━━━━━━━━━━━━━━━━━\u001b[0m\u001b[37m\u001b[0m \u001b[1m0s\u001b[0m 18ms/step - accuracy: 0.8930 - loss: 0.3910 - val_accuracy: 0.9730 - val_loss: 0.1179\n",
      "Epoch 46/75\n",
      "\u001b[1m5/5\u001b[0m \u001b[32m━━━━━━━━━━━━━━━━━━━━\u001b[0m\u001b[37m\u001b[0m \u001b[1m0s\u001b[0m 16ms/step - accuracy: 0.8607 - loss: 0.6339 - val_accuracy: 0.9459 - val_loss: 0.1055\n",
      "Epoch 47/75\n",
      "\u001b[1m5/5\u001b[0m \u001b[32m━━━━━━━━━━━━━━━━━━━━\u001b[0m\u001b[37m\u001b[0m \u001b[1m0s\u001b[0m 17ms/step - accuracy: 0.9013 - loss: 0.3257 - val_accuracy: 0.9459 - val_loss: 0.1843\n",
      "Epoch 48/75\n",
      "\u001b[1m5/5\u001b[0m \u001b[32m━━━━━━━━━━━━━━━━━━━━\u001b[0m\u001b[37m\u001b[0m \u001b[1m0s\u001b[0m 17ms/step - accuracy: 0.8525 - loss: 0.6209 - val_accuracy: 0.9189 - val_loss: 0.2502\n",
      "Epoch 49/75\n",
      "\u001b[1m5/5\u001b[0m \u001b[32m━━━━━━━━━━━━━━━━━━━━\u001b[0m\u001b[37m\u001b[0m \u001b[1m0s\u001b[0m 17ms/step - accuracy: 0.7967 - loss: 0.6815 - val_accuracy: 0.9189 - val_loss: 0.2278\n",
      "Epoch 50/75\n",
      "\u001b[1m5/5\u001b[0m \u001b[32m━━━━━━━━━━━━━━━━━━━━\u001b[0m\u001b[37m\u001b[0m \u001b[1m0s\u001b[0m 17ms/step - accuracy: 0.8621 - loss: 0.5575 - val_accuracy: 0.9189 - val_loss: 0.1817\n",
      "Epoch 51/75\n",
      "\u001b[1m5/5\u001b[0m \u001b[32m━━━━━━━━━━━━━━━━━━━━\u001b[0m\u001b[37m\u001b[0m \u001b[1m0s\u001b[0m 22ms/step - accuracy: 0.9028 - loss: 0.3761 - val_accuracy: 0.9189 - val_loss: 0.2052\n",
      "Epoch 52/75\n"
     ]
    },
    {
     "name": "stdout",
     "output_type": "stream",
     "text": [
      "\u001b[1m5/5\u001b[0m \u001b[32m━━━━━━━━━━━━━━━━━━━━\u001b[0m\u001b[37m\u001b[0m \u001b[1m0s\u001b[0m 20ms/step - accuracy: 0.8659 - loss: 0.3901 - val_accuracy: 0.9189 - val_loss: 0.2056\n",
      "Epoch 53/75\n",
      "\u001b[1m5/5\u001b[0m \u001b[32m━━━━━━━━━━━━━━━━━━━━\u001b[0m\u001b[37m\u001b[0m \u001b[1m0s\u001b[0m 21ms/step - accuracy: 0.8971 - loss: 0.4377 - val_accuracy: 0.9459 - val_loss: 0.1630\n",
      "Epoch 54/75\n",
      "\u001b[1m5/5\u001b[0m \u001b[32m━━━━━━━━━━━━━━━━━━━━\u001b[0m\u001b[37m\u001b[0m \u001b[1m0s\u001b[0m 21ms/step - accuracy: 0.8760 - loss: 0.4792 - val_accuracy: 0.9459 - val_loss: 0.1044\n",
      "Epoch 55/75\n",
      "\u001b[1m5/5\u001b[0m \u001b[32m━━━━━━━━━━━━━━━━━━━━\u001b[0m\u001b[37m\u001b[0m \u001b[1m0s\u001b[0m 18ms/step - accuracy: 0.8915 - loss: 0.4266 - val_accuracy: 0.9730 - val_loss: 0.0838\n",
      "Epoch 56/75\n",
      "\u001b[1m5/5\u001b[0m \u001b[32m━━━━━━━━━━━━━━━━━━━━\u001b[0m\u001b[37m\u001b[0m \u001b[1m0s\u001b[0m 18ms/step - accuracy: 0.8846 - loss: 0.5030 - val_accuracy: 0.9459 - val_loss: 0.1086\n",
      "Epoch 57/75\n",
      "\u001b[1m5/5\u001b[0m \u001b[32m━━━━━━━━━━━━━━━━━━━━\u001b[0m\u001b[37m\u001b[0m \u001b[1m0s\u001b[0m 17ms/step - accuracy: 0.8736 - loss: 0.4795 - val_accuracy: 0.9459 - val_loss: 0.1523\n",
      "Epoch 58/75\n",
      "\u001b[1m5/5\u001b[0m \u001b[32m━━━━━━━━━━━━━━━━━━━━\u001b[0m\u001b[37m\u001b[0m \u001b[1m0s\u001b[0m 17ms/step - accuracy: 0.8747 - loss: 0.3580 - val_accuracy: 0.9189 - val_loss: 0.1761\n",
      "Epoch 59/75\n",
      "\u001b[1m5/5\u001b[0m \u001b[32m━━━━━━━━━━━━━━━━━━━━\u001b[0m\u001b[37m\u001b[0m \u001b[1m0s\u001b[0m 17ms/step - accuracy: 0.8772 - loss: 0.4492 - val_accuracy: 0.9189 - val_loss: 0.2081\n",
      "Epoch 60/75\n",
      "\u001b[1m5/5\u001b[0m \u001b[32m━━━━━━━━━━━━━━━━━━━━\u001b[0m\u001b[37m\u001b[0m \u001b[1m0s\u001b[0m 17ms/step - accuracy: 0.9052 - loss: 0.3243 - val_accuracy: 0.9459 - val_loss: 0.1540\n",
      "Epoch 61/75\n",
      "\u001b[1m5/5\u001b[0m \u001b[32m━━━━━━━━━━━━━━━━━━━━\u001b[0m\u001b[37m\u001b[0m \u001b[1m0s\u001b[0m 24ms/step - accuracy: 0.8508 - loss: 0.3789 - val_accuracy: 0.9459 - val_loss: 0.1238\n",
      "Epoch 62/75\n",
      "\u001b[1m5/5\u001b[0m \u001b[32m━━━━━━━━━━━━━━━━━━━━\u001b[0m\u001b[37m\u001b[0m \u001b[1m0s\u001b[0m 20ms/step - accuracy: 0.8778 - loss: 0.2903 - val_accuracy: 0.9459 - val_loss: 0.1299\n",
      "Epoch 63/75\n",
      "\u001b[1m5/5\u001b[0m \u001b[32m━━━━━━━━━━━━━━━━━━━━\u001b[0m\u001b[37m\u001b[0m \u001b[1m0s\u001b[0m 19ms/step - accuracy: 0.9244 - loss: 0.2785 - val_accuracy: 0.9459 - val_loss: 0.1265\n",
      "Epoch 64/75\n",
      "\u001b[1m5/5\u001b[0m \u001b[32m━━━━━━━━━━━━━━━━━━━━\u001b[0m\u001b[37m\u001b[0m \u001b[1m0s\u001b[0m 19ms/step - accuracy: 0.9062 - loss: 0.3502 - val_accuracy: 0.9189 - val_loss: 0.1612\n",
      "Epoch 65/75\n",
      "\u001b[1m5/5\u001b[0m \u001b[32m━━━━━━━━━━━━━━━━━━━━\u001b[0m\u001b[37m\u001b[0m \u001b[1m0s\u001b[0m 21ms/step - accuracy: 0.8780 - loss: 0.5448 - val_accuracy: 0.9459 - val_loss: 0.1625\n",
      "Epoch 66/75\n",
      "\u001b[1m5/5\u001b[0m \u001b[32m━━━━━━━━━━━━━━━━━━━━\u001b[0m\u001b[37m\u001b[0m \u001b[1m0s\u001b[0m 21ms/step - accuracy: 0.8971 - loss: 0.3703 - val_accuracy: 0.9459 - val_loss: 0.1199\n",
      "Epoch 67/75\n",
      "\u001b[1m5/5\u001b[0m \u001b[32m━━━━━━━━━━━━━━━━━━━━\u001b[0m\u001b[37m\u001b[0m \u001b[1m0s\u001b[0m 19ms/step - accuracy: 0.9255 - loss: 0.2509 - val_accuracy: 0.9459 - val_loss: 0.1473\n",
      "Epoch 68/75\n",
      "\u001b[1m5/5\u001b[0m \u001b[32m━━━━━━━━━━━━━━━━━━━━\u001b[0m\u001b[37m\u001b[0m \u001b[1m0s\u001b[0m 17ms/step - accuracy: 0.9145 - loss: 0.3577 - val_accuracy: 0.9459 - val_loss: 0.1939\n",
      "Epoch 69/75\n",
      "\u001b[1m5/5\u001b[0m \u001b[32m━━━━━━━━━━━━━━━━━━━━\u001b[0m\u001b[37m\u001b[0m \u001b[1m0s\u001b[0m 22ms/step - accuracy: 0.9066 - loss: 0.3008 - val_accuracy: 0.9189 - val_loss: 0.1666\n",
      "Epoch 70/75\n",
      "\u001b[1m5/5\u001b[0m \u001b[32m━━━━━━━━━━━━━━━━━━━━\u001b[0m\u001b[37m\u001b[0m \u001b[1m0s\u001b[0m 19ms/step - accuracy: 0.8866 - loss: 0.4097 - val_accuracy: 0.9189 - val_loss: 0.1507\n",
      "Epoch 71/75\n",
      "\u001b[1m5/5\u001b[0m \u001b[32m━━━━━━━━━━━━━━━━━━━━\u001b[0m\u001b[37m\u001b[0m \u001b[1m0s\u001b[0m 17ms/step - accuracy: 0.9022 - loss: 0.3614 - val_accuracy: 0.9459 - val_loss: 0.1926\n",
      "Epoch 72/75\n",
      "\u001b[1m5/5\u001b[0m \u001b[32m━━━━━━━━━━━━━━━━━━━━\u001b[0m\u001b[37m\u001b[0m \u001b[1m0s\u001b[0m 19ms/step - accuracy: 0.8797 - loss: 0.2938 - val_accuracy: 0.9459 - val_loss: 0.1727\n",
      "Epoch 73/75\n",
      "\u001b[1m5/5\u001b[0m \u001b[32m━━━━━━━━━━━━━━━━━━━━\u001b[0m\u001b[37m\u001b[0m \u001b[1m0s\u001b[0m 22ms/step - accuracy: 0.8869 - loss: 0.3885 - val_accuracy: 0.9459 - val_loss: 0.1535\n",
      "Epoch 74/75\n",
      "\u001b[1m5/5\u001b[0m \u001b[32m━━━━━━━━━━━━━━━━━━━━\u001b[0m\u001b[37m\u001b[0m \u001b[1m0s\u001b[0m 25ms/step - accuracy: 0.9144 - loss: 0.3605 - val_accuracy: 0.9730 - val_loss: 0.1328\n",
      "Epoch 75/75\n",
      "\u001b[1m5/5\u001b[0m \u001b[32m━━━━━━━━━━━━━━━━━━━━\u001b[0m\u001b[37m\u001b[0m \u001b[1m0s\u001b[0m 23ms/step - accuracy: 0.8520 - loss: 0.2942 - val_accuracy: 0.9189 - val_loss: 0.1794\n"
     ]
    },
    {
     "data": {
      "text/plain": [
       "<keras.src.callbacks.history.History at 0x25dda384590>"
      ]
     },
     "execution_count": 36,
     "metadata": {},
     "output_type": "execute_result"
    }
   ],
   "source": [
    "# Train the network for classification task\n",
    "clf_model.fit(X_train, y_class_train, epochs=75, batch_size=32, validation_data=(X_test, y_class_test))"
   ]
  },
  {
   "cell_type": "markdown",
   "id": "2aa676fe",
   "metadata": {},
   "source": [
    "## Model Evaluation"
   ]
  },
  {
   "cell_type": "code",
   "execution_count": 37,
   "id": "9ff66c73",
   "metadata": {},
   "outputs": [
    {
     "name": "stdout",
     "output_type": "stream",
     "text": [
      "Classification - Loss: 0.1794, Accuracy: 0.9189\n"
     ]
    }
   ],
   "source": [
    "# Evaluate classification\n",
    "loss, acc = clf_model.evaluate(X_test, y_class_test, verbose=0)\n",
    "print(f\"Classification - Loss: {loss:.4f}, Accuracy: {acc:.4f}\")"
   ]
  },
  {
   "cell_type": "markdown",
   "id": "928fa108",
   "metadata": {},
   "source": [
    "## Save Architecture and Weights"
   ]
  },
  {
   "cell_type": "code",
   "execution_count": 38,
   "id": "78a735fe",
   "metadata": {},
   "outputs": [
    {
     "name": "stdout",
     "output_type": "stream",
     "text": [
      "Model saved to clf_model.json + clf_model.weights.h5\n"
     ]
    }
   ],
   "source": [
    "# Save architecture\n",
    "model_json = clf_model.to_json()\n",
    "with open(\"clf_model.json\", \"w\") as json_file:\n",
    "    json_file.write(model_json)\n",
    "\n",
    "# Save weights\n",
    "clf_model.save_weights(\"clf_model.weights.h5\")\n",
    "print(\"Model saved to clf_model.json + clf_model.weights.h5\")"
   ]
  },
  {
   "cell_type": "markdown",
   "id": "f9996683",
   "metadata": {},
   "source": [
    "## REGRESSION MODEL"
   ]
  },
  {
   "cell_type": "code",
   "execution_count": 39,
   "id": "a9a048d2",
   "metadata": {},
   "outputs": [],
   "source": [
    "# Regression model\n",
    "reg_model = models.Sequential([\n",
    "    layers.Input(shape=(X.shape[1],)),\n",
    "    layers.Dense(128, activation=\"relu\"),\n",
    "    layers.Dropout(0.3),\n",
    "    layers.Dense(64, activation=\"relu\"),\n",
    "    layers.Dense(y_reg.shape[1])  # no activation → linear output\n",
    "])"
   ]
  },
  {
   "cell_type": "code",
   "execution_count": 40,
   "id": "a158abe5",
   "metadata": {},
   "outputs": [],
   "source": [
    "# Create Adam optimizer with custom learning rate\n",
    "adam_optimizer = Adam(learning_rate=0.001)  # 0.001 is default\n",
    "\n",
    "# Compile the model\n",
    "reg_model.compile(optimizer=\"adam\",\n",
    "                  loss=\"mse\",\n",
    "                  metrics=[\"mae\"])"
   ]
  },
  {
   "cell_type": "code",
   "execution_count": 41,
   "id": "8ee69649",
   "metadata": {},
   "outputs": [
    {
     "data": {
      "text/html": [
       "<pre style=\"white-space:pre;overflow-x:auto;line-height:normal;font-family:Menlo,'DejaVu Sans Mono',consolas,'Courier New',monospace\"><span style=\"font-weight: bold\">Model: \"sequential_1\"</span>\n",
       "</pre>\n"
      ],
      "text/plain": [
       "\u001b[1mModel: \"sequential_1\"\u001b[0m\n"
      ]
     },
     "metadata": {},
     "output_type": "display_data"
    },
    {
     "data": {
      "text/html": [
       "<pre style=\"white-space:pre;overflow-x:auto;line-height:normal;font-family:Menlo,'DejaVu Sans Mono',consolas,'Courier New',monospace\">┏━━━━━━━━━━━━━━━━━━━━━━━━━━━━━━━━━━━━━━┳━━━━━━━━━━━━━━━━━━━━━━━━━━━━━┳━━━━━━━━━━━━━━━━━┓\n",
       "┃<span style=\"font-weight: bold\"> Layer (type)                         </span>┃<span style=\"font-weight: bold\"> Output Shape                </span>┃<span style=\"font-weight: bold\">         Param # </span>┃\n",
       "┡━━━━━━━━━━━━━━━━━━━━━━━━━━━━━━━━━━━━━━╇━━━━━━━━━━━━━━━━━━━━━━━━━━━━━╇━━━━━━━━━━━━━━━━━┩\n",
       "│ dense_3 (<span style=\"color: #0087ff; text-decoration-color: #0087ff\">Dense</span>)                      │ (<span style=\"color: #00d7ff; text-decoration-color: #00d7ff\">None</span>, <span style=\"color: #00af00; text-decoration-color: #00af00\">128</span>)                 │          <span style=\"color: #00af00; text-decoration-color: #00af00\">18,432</span> │\n",
       "├──────────────────────────────────────┼─────────────────────────────┼─────────────────┤\n",
       "│ dropout_1 (<span style=\"color: #0087ff; text-decoration-color: #0087ff\">Dropout</span>)                  │ (<span style=\"color: #00d7ff; text-decoration-color: #00d7ff\">None</span>, <span style=\"color: #00af00; text-decoration-color: #00af00\">128</span>)                 │               <span style=\"color: #00af00; text-decoration-color: #00af00\">0</span> │\n",
       "├──────────────────────────────────────┼─────────────────────────────┼─────────────────┤\n",
       "│ dense_4 (<span style=\"color: #0087ff; text-decoration-color: #0087ff\">Dense</span>)                      │ (<span style=\"color: #00d7ff; text-decoration-color: #00d7ff\">None</span>, <span style=\"color: #00af00; text-decoration-color: #00af00\">64</span>)                  │           <span style=\"color: #00af00; text-decoration-color: #00af00\">8,256</span> │\n",
       "├──────────────────────────────────────┼─────────────────────────────┼─────────────────┤\n",
       "│ dense_5 (<span style=\"color: #0087ff; text-decoration-color: #0087ff\">Dense</span>)                      │ (<span style=\"color: #00d7ff; text-decoration-color: #00d7ff\">None</span>, <span style=\"color: #00af00; text-decoration-color: #00af00\">3</span>)                   │             <span style=\"color: #00af00; text-decoration-color: #00af00\">195</span> │\n",
       "└──────────────────────────────────────┴─────────────────────────────┴─────────────────┘\n",
       "</pre>\n"
      ],
      "text/plain": [
       "┏━━━━━━━━━━━━━━━━━━━━━━━━━━━━━━━━━━━━━━┳━━━━━━━━━━━━━━━━━━━━━━━━━━━━━┳━━━━━━━━━━━━━━━━━┓\n",
       "┃\u001b[1m \u001b[0m\u001b[1mLayer (type)                        \u001b[0m\u001b[1m \u001b[0m┃\u001b[1m \u001b[0m\u001b[1mOutput Shape               \u001b[0m\u001b[1m \u001b[0m┃\u001b[1m \u001b[0m\u001b[1m        Param #\u001b[0m\u001b[1m \u001b[0m┃\n",
       "┡━━━━━━━━━━━━━━━━━━━━━━━━━━━━━━━━━━━━━━╇━━━━━━━━━━━━━━━━━━━━━━━━━━━━━╇━━━━━━━━━━━━━━━━━┩\n",
       "│ dense_3 (\u001b[38;5;33mDense\u001b[0m)                      │ (\u001b[38;5;45mNone\u001b[0m, \u001b[38;5;34m128\u001b[0m)                 │          \u001b[38;5;34m18,432\u001b[0m │\n",
       "├──────────────────────────────────────┼─────────────────────────────┼─────────────────┤\n",
       "│ dropout_1 (\u001b[38;5;33mDropout\u001b[0m)                  │ (\u001b[38;5;45mNone\u001b[0m, \u001b[38;5;34m128\u001b[0m)                 │               \u001b[38;5;34m0\u001b[0m │\n",
       "├──────────────────────────────────────┼─────────────────────────────┼─────────────────┤\n",
       "│ dense_4 (\u001b[38;5;33mDense\u001b[0m)                      │ (\u001b[38;5;45mNone\u001b[0m, \u001b[38;5;34m64\u001b[0m)                  │           \u001b[38;5;34m8,256\u001b[0m │\n",
       "├──────────────────────────────────────┼─────────────────────────────┼─────────────────┤\n",
       "│ dense_5 (\u001b[38;5;33mDense\u001b[0m)                      │ (\u001b[38;5;45mNone\u001b[0m, \u001b[38;5;34m3\u001b[0m)                   │             \u001b[38;5;34m195\u001b[0m │\n",
       "└──────────────────────────────────────┴─────────────────────────────┴─────────────────┘\n"
      ]
     },
     "metadata": {},
     "output_type": "display_data"
    },
    {
     "data": {
      "text/html": [
       "<pre style=\"white-space:pre;overflow-x:auto;line-height:normal;font-family:Menlo,'DejaVu Sans Mono',consolas,'Courier New',monospace\"><span style=\"font-weight: bold\"> Total params: </span><span style=\"color: #00af00; text-decoration-color: #00af00\">26,883</span> (105.01 KB)\n",
       "</pre>\n"
      ],
      "text/plain": [
       "\u001b[1m Total params: \u001b[0m\u001b[38;5;34m26,883\u001b[0m (105.01 KB)\n"
      ]
     },
     "metadata": {},
     "output_type": "display_data"
    },
    {
     "data": {
      "text/html": [
       "<pre style=\"white-space:pre;overflow-x:auto;line-height:normal;font-family:Menlo,'DejaVu Sans Mono',consolas,'Courier New',monospace\"><span style=\"font-weight: bold\"> Trainable params: </span><span style=\"color: #00af00; text-decoration-color: #00af00\">26,883</span> (105.01 KB)\n",
       "</pre>\n"
      ],
      "text/plain": [
       "\u001b[1m Trainable params: \u001b[0m\u001b[38;5;34m26,883\u001b[0m (105.01 KB)\n"
      ]
     },
     "metadata": {},
     "output_type": "display_data"
    },
    {
     "data": {
      "text/html": [
       "<pre style=\"white-space:pre;overflow-x:auto;line-height:normal;font-family:Menlo,'DejaVu Sans Mono',consolas,'Courier New',monospace\"><span style=\"font-weight: bold\"> Non-trainable params: </span><span style=\"color: #00af00; text-decoration-color: #00af00\">0</span> (0.00 B)\n",
       "</pre>\n"
      ],
      "text/plain": [
       "\u001b[1m Non-trainable params: \u001b[0m\u001b[38;5;34m0\u001b[0m (0.00 B)\n"
      ]
     },
     "metadata": {},
     "output_type": "display_data"
    }
   ],
   "source": [
    "# Get the parameters\n",
    "reg_model.summary()"
   ]
  },
  {
   "cell_type": "code",
   "execution_count": 42,
   "id": "e6503dfc",
   "metadata": {
    "scrolled": false
   },
   "outputs": [
    {
     "name": "stdout",
     "output_type": "stream",
     "text": [
      "Epoch 1/150\n",
      "\u001b[1m10/10\u001b[0m \u001b[32m━━━━━━━━━━━━━━━━━━━━\u001b[0m\u001b[37m\u001b[0m \u001b[1m1s\u001b[0m 27ms/step - loss: 521.7086 - mae: 17.4475 - val_loss: 117.6959 - val_mae: 7.8486\n",
      "Epoch 2/150\n",
      "\u001b[1m10/10\u001b[0m \u001b[32m━━━━━━━━━━━━━━━━━━━━\u001b[0m\u001b[37m\u001b[0m \u001b[1m0s\u001b[0m 8ms/step - loss: 158.2751 - mae: 9.8690 - val_loss: 25.9747 - val_mae: 4.0422\n",
      "Epoch 3/150\n",
      "\u001b[1m10/10\u001b[0m \u001b[32m━━━━━━━━━━━━━━━━━━━━\u001b[0m\u001b[37m\u001b[0m \u001b[1m0s\u001b[0m 9ms/step - loss: 79.5189 - mae: 7.3215 - val_loss: 8.2604 - val_mae: 2.3419\n",
      "Epoch 4/150\n",
      "\u001b[1m10/10\u001b[0m \u001b[32m━━━━━━━━━━━━━━━━━━━━\u001b[0m\u001b[37m\u001b[0m \u001b[1m0s\u001b[0m 9ms/step - loss: 75.4191 - mae: 6.8189 - val_loss: 5.7707 - val_mae: 1.8268\n",
      "Epoch 5/150\n",
      "\u001b[1m10/10\u001b[0m \u001b[32m━━━━━━━━━━━━━━━━━━━━\u001b[0m\u001b[37m\u001b[0m \u001b[1m0s\u001b[0m 8ms/step - loss: 38.5087 - mae: 4.9079 - val_loss: 15.0572 - val_mae: 3.1982\n",
      "Epoch 6/150\n",
      "\u001b[1m10/10\u001b[0m \u001b[32m━━━━━━━━━━━━━━━━━━━━\u001b[0m\u001b[37m\u001b[0m \u001b[1m0s\u001b[0m 8ms/step - loss: 37.5009 - mae: 4.8499 - val_loss: 4.0776 - val_mae: 1.5687\n",
      "Epoch 7/150\n",
      "\u001b[1m10/10\u001b[0m \u001b[32m━━━━━━━━━━━━━━━━━━━━\u001b[0m\u001b[37m\u001b[0m \u001b[1m0s\u001b[0m 8ms/step - loss: 27.9953 - mae: 4.2399 - val_loss: 5.0805 - val_mae: 1.6790\n",
      "Epoch 8/150\n",
      "\u001b[1m10/10\u001b[0m \u001b[32m━━━━━━━━━━━━━━━━━━━━\u001b[0m\u001b[37m\u001b[0m \u001b[1m0s\u001b[0m 8ms/step - loss: 25.6776 - mae: 3.9962 - val_loss: 5.3556 - val_mae: 1.8656\n",
      "Epoch 9/150\n",
      "\u001b[1m10/10\u001b[0m \u001b[32m━━━━━━━━━━━━━━━━━━━━\u001b[0m\u001b[37m\u001b[0m \u001b[1m0s\u001b[0m 8ms/step - loss: 18.6311 - mae: 3.3995 - val_loss: 3.3299 - val_mae: 1.4870\n",
      "Epoch 10/150\n",
      "\u001b[1m10/10\u001b[0m \u001b[32m━━━━━━━━━━━━━━━━━━━━\u001b[0m\u001b[37m\u001b[0m \u001b[1m0s\u001b[0m 8ms/step - loss: 17.9903 - mae: 3.3430 - val_loss: 1.6193 - val_mae: 1.0795\n",
      "Epoch 11/150\n",
      "\u001b[1m10/10\u001b[0m \u001b[32m━━━━━━━━━━━━━━━━━━━━\u001b[0m\u001b[37m\u001b[0m \u001b[1m0s\u001b[0m 10ms/step - loss: 15.1614 - mae: 3.0899 - val_loss: 1.6025 - val_mae: 1.0577\n",
      "Epoch 12/150\n",
      "\u001b[1m10/10\u001b[0m \u001b[32m━━━━━━━━━━━━━━━━━━━━\u001b[0m\u001b[37m\u001b[0m \u001b[1m0s\u001b[0m 10ms/step - loss: 12.2536 - mae: 2.8081 - val_loss: 1.9123 - val_mae: 1.1538\n",
      "Epoch 13/150\n",
      "\u001b[1m10/10\u001b[0m \u001b[32m━━━━━━━━━━━━━━━━━━━━\u001b[0m\u001b[37m\u001b[0m \u001b[1m0s\u001b[0m 10ms/step - loss: 11.0310 - mae: 2.5948 - val_loss: 1.1681 - val_mae: 0.8903\n",
      "Epoch 14/150\n",
      "\u001b[1m10/10\u001b[0m \u001b[32m━━━━━━━━━━━━━━━━━━━━\u001b[0m\u001b[37m\u001b[0m \u001b[1m0s\u001b[0m 10ms/step - loss: 8.9705 - mae: 2.4122 - val_loss: 1.0039 - val_mae: 0.8264\n",
      "Epoch 15/150\n",
      "\u001b[1m10/10\u001b[0m \u001b[32m━━━━━━━━━━━━━━━━━━━━\u001b[0m\u001b[37m\u001b[0m \u001b[1m0s\u001b[0m 10ms/step - loss: 10.6136 - mae: 2.5442 - val_loss: 0.8353 - val_mae: 0.7447\n",
      "Epoch 16/150\n",
      "\u001b[1m10/10\u001b[0m \u001b[32m━━━━━━━━━━━━━━━━━━━━\u001b[0m\u001b[37m\u001b[0m \u001b[1m0s\u001b[0m 9ms/step - loss: 6.3219 - mae: 2.0174 - val_loss: 0.9882 - val_mae: 0.8015\n",
      "Epoch 17/150\n",
      "\u001b[1m10/10\u001b[0m \u001b[32m━━━━━━━━━━━━━━━━━━━━\u001b[0m\u001b[37m\u001b[0m \u001b[1m0s\u001b[0m 9ms/step - loss: 7.8802 - mae: 2.1771 - val_loss: 0.9653 - val_mae: 0.7618\n",
      "Epoch 18/150\n",
      "\u001b[1m10/10\u001b[0m \u001b[32m━━━━━━━━━━━━━━━━━━━━\u001b[0m\u001b[37m\u001b[0m \u001b[1m0s\u001b[0m 8ms/step - loss: 5.4938 - mae: 1.8328 - val_loss: 0.7652 - val_mae: 0.6729\n",
      "Epoch 19/150\n",
      "\u001b[1m10/10\u001b[0m \u001b[32m━━━━━━━━━━━━━━━━━━━━\u001b[0m\u001b[37m\u001b[0m \u001b[1m0s\u001b[0m 8ms/step - loss: 5.7616 - mae: 1.8860 - val_loss: 0.7607 - val_mae: 0.6923\n",
      "Epoch 20/150\n",
      "\u001b[1m10/10\u001b[0m \u001b[32m━━━━━━━━━━━━━━━━━━━━\u001b[0m\u001b[37m\u001b[0m \u001b[1m0s\u001b[0m 8ms/step - loss: 5.5404 - mae: 1.8314 - val_loss: 0.6456 - val_mae: 0.6627\n",
      "Epoch 21/150\n",
      "\u001b[1m10/10\u001b[0m \u001b[32m━━━━━━━━━━━━━━━━━━━━\u001b[0m\u001b[37m\u001b[0m \u001b[1m0s\u001b[0m 8ms/step - loss: 4.6286 - mae: 1.6386 - val_loss: 0.5478 - val_mae: 0.6018\n",
      "Epoch 22/150\n",
      "\u001b[1m10/10\u001b[0m \u001b[32m━━━━━━━━━━━━━━━━━━━━\u001b[0m\u001b[37m\u001b[0m \u001b[1m0s\u001b[0m 10ms/step - loss: 4.3505 - mae: 1.5952 - val_loss: 0.5847 - val_mae: 0.6058\n",
      "Epoch 23/150\n",
      "\u001b[1m10/10\u001b[0m \u001b[32m━━━━━━━━━━━━━━━━━━━━\u001b[0m\u001b[37m\u001b[0m \u001b[1m0s\u001b[0m 9ms/step - loss: 4.9083 - mae: 1.6542 - val_loss: 0.6098 - val_mae: 0.6508\n",
      "Epoch 24/150\n",
      "\u001b[1m10/10\u001b[0m \u001b[32m━━━━━━━━━━━━━━━━━━━━\u001b[0m\u001b[37m\u001b[0m \u001b[1m0s\u001b[0m 8ms/step - loss: 4.2623 - mae: 1.6031 - val_loss: 0.5191 - val_mae: 0.5980\n",
      "Epoch 25/150\n",
      "\u001b[1m10/10\u001b[0m \u001b[32m━━━━━━━━━━━━━━━━━━━━\u001b[0m\u001b[37m\u001b[0m \u001b[1m0s\u001b[0m 8ms/step - loss: 2.9495 - mae: 1.3573 - val_loss: 0.4281 - val_mae: 0.5491\n",
      "Epoch 26/150\n",
      "\u001b[1m10/10\u001b[0m \u001b[32m━━━━━━━━━━━━━━━━━━━━\u001b[0m\u001b[37m\u001b[0m \u001b[1m0s\u001b[0m 8ms/step - loss: 3.9193 - mae: 1.5567 - val_loss: 0.3244 - val_mae: 0.4667\n",
      "Epoch 27/150\n",
      "\u001b[1m10/10\u001b[0m \u001b[32m━━━━━━━━━━━━━━━━━━━━\u001b[0m\u001b[37m\u001b[0m \u001b[1m0s\u001b[0m 8ms/step - loss: 2.9147 - mae: 1.3476 - val_loss: 0.2924 - val_mae: 0.4372\n",
      "Epoch 28/150\n",
      "\u001b[1m10/10\u001b[0m \u001b[32m━━━━━━━━━━━━━━━━━━━━\u001b[0m\u001b[37m\u001b[0m \u001b[1m0s\u001b[0m 8ms/step - loss: 2.4360 - mae: 1.1852 - val_loss: 0.2111 - val_mae: 0.3672\n",
      "Epoch 29/150\n",
      "\u001b[1m10/10\u001b[0m \u001b[32m━━━━━━━━━━━━━━━━━━━━\u001b[0m\u001b[37m\u001b[0m \u001b[1m0s\u001b[0m 8ms/step - loss: 2.9579 - mae: 1.2970 - val_loss: 0.1814 - val_mae: 0.3266\n",
      "Epoch 30/150\n",
      "\u001b[1m10/10\u001b[0m \u001b[32m━━━━━━━━━━━━━━━━━━━━\u001b[0m\u001b[37m\u001b[0m \u001b[1m0s\u001b[0m 9ms/step - loss: 3.0685 - mae: 1.3476 - val_loss: 0.1802 - val_mae: 0.3215\n",
      "Epoch 31/150\n",
      "\u001b[1m10/10\u001b[0m \u001b[32m━━━━━━━━━━━━━━━━━━━━\u001b[0m\u001b[37m\u001b[0m \u001b[1m0s\u001b[0m 13ms/step - loss: 2.6083 - mae: 1.2242 - val_loss: 0.1814 - val_mae: 0.3389\n",
      "Epoch 32/150\n",
      "\u001b[1m10/10\u001b[0m \u001b[32m━━━━━━━━━━━━━━━━━━━━\u001b[0m\u001b[37m\u001b[0m \u001b[1m0s\u001b[0m 9ms/step - loss: 2.6330 - mae: 1.2055 - val_loss: 0.1501 - val_mae: 0.3090\n",
      "Epoch 33/150\n",
      "\u001b[1m10/10\u001b[0m \u001b[32m━━━━━━━━━━━━━━━━━━━━\u001b[0m\u001b[37m\u001b[0m \u001b[1m0s\u001b[0m 8ms/step - loss: 1.8427 - mae: 1.0434 - val_loss: 0.1332 - val_mae: 0.2841\n",
      "Epoch 34/150\n",
      "\u001b[1m10/10\u001b[0m \u001b[32m━━━━━━━━━━━━━━━━━━━━\u001b[0m\u001b[37m\u001b[0m \u001b[1m0s\u001b[0m 10ms/step - loss: 1.8258 - mae: 0.9862 - val_loss: 0.1478 - val_mae: 0.3198\n",
      "Epoch 35/150\n",
      "\u001b[1m10/10\u001b[0m \u001b[32m━━━━━━━━━━━━━━━━━━━━\u001b[0m\u001b[37m\u001b[0m \u001b[1m0s\u001b[0m 11ms/step - loss: 2.4353 - mae: 1.1587 - val_loss: 0.1347 - val_mae: 0.2976\n",
      "Epoch 36/150\n",
      "\u001b[1m10/10\u001b[0m \u001b[32m━━━━━━━━━━━━━━━━━━━━\u001b[0m\u001b[37m\u001b[0m \u001b[1m0s\u001b[0m 10ms/step - loss: 1.9974 - mae: 1.0661 - val_loss: 0.2135 - val_mae: 0.3810\n",
      "Epoch 37/150\n",
      "\u001b[1m10/10\u001b[0m \u001b[32m━━━━━━━━━━━━━━━━━━━━\u001b[0m\u001b[37m\u001b[0m \u001b[1m0s\u001b[0m 9ms/step - loss: 1.5690 - mae: 0.9335 - val_loss: 0.1707 - val_mae: 0.3500\n",
      "Epoch 38/150\n",
      "\u001b[1m10/10\u001b[0m \u001b[32m━━━━━━━━━━━━━━━━━━━━\u001b[0m\u001b[37m\u001b[0m \u001b[1m0s\u001b[0m 11ms/step - loss: 1.7325 - mae: 0.9735 - val_loss: 0.1412 - val_mae: 0.3258\n",
      "Epoch 39/150\n",
      "\u001b[1m10/10\u001b[0m \u001b[32m━━━━━━━━━━━━━━━━━━━━\u001b[0m\u001b[37m\u001b[0m \u001b[1m0s\u001b[0m 10ms/step - loss: 1.5698 - mae: 0.9630 - val_loss: 0.1590 - val_mae: 0.3444\n",
      "Epoch 40/150\n",
      "\u001b[1m10/10\u001b[0m \u001b[32m━━━━━━━━━━━━━━━━━━━━\u001b[0m\u001b[37m\u001b[0m \u001b[1m0s\u001b[0m 9ms/step - loss: 1.7220 - mae: 1.0189 - val_loss: 0.1595 - val_mae: 0.3390\n",
      "Epoch 41/150\n",
      "\u001b[1m10/10\u001b[0m \u001b[32m━━━━━━━━━━━━━━━━━━━━\u001b[0m\u001b[37m\u001b[0m \u001b[1m0s\u001b[0m 9ms/step - loss: 1.3620 - mae: 0.9170 - val_loss: 0.1535 - val_mae: 0.3290\n",
      "Epoch 42/150\n",
      "\u001b[1m10/10\u001b[0m \u001b[32m━━━━━━━━━━━━━━━━━━━━\u001b[0m\u001b[37m\u001b[0m \u001b[1m0s\u001b[0m 8ms/step - loss: 1.1926 - mae: 0.8307 - val_loss: 0.1483 - val_mae: 0.3169\n",
      "Epoch 43/150\n",
      "\u001b[1m10/10\u001b[0m \u001b[32m━━━━━━━━━━━━━━━━━━━━\u001b[0m\u001b[37m\u001b[0m \u001b[1m0s\u001b[0m 8ms/step - loss: 1.6910 - mae: 1.0272 - val_loss: 0.2067 - val_mae: 0.3615\n",
      "Epoch 44/150\n",
      "\u001b[1m10/10\u001b[0m \u001b[32m━━━━━━━━━━━━━━━━━━━━\u001b[0m\u001b[37m\u001b[0m \u001b[1m0s\u001b[0m 8ms/step - loss: 1.0541 - mae: 0.7699 - val_loss: 0.2842 - val_mae: 0.4272\n",
      "Epoch 45/150\n",
      "\u001b[1m10/10\u001b[0m \u001b[32m━━━━━━━━━━━━━━━━━━━━\u001b[0m\u001b[37m\u001b[0m \u001b[1m0s\u001b[0m 8ms/step - loss: 1.2147 - mae: 0.8128 - val_loss: 0.2350 - val_mae: 0.3758\n",
      "Epoch 46/150\n",
      "\u001b[1m10/10\u001b[0m \u001b[32m━━━━━━━━━━━━━━━━━━━━\u001b[0m\u001b[37m\u001b[0m \u001b[1m0s\u001b[0m 8ms/step - loss: 1.2789 - mae: 0.8696 - val_loss: 0.2003 - val_mae: 0.3427\n",
      "Epoch 47/150\n",
      "\u001b[1m10/10\u001b[0m \u001b[32m━━━━━━━━━━━━━━━━━━━━\u001b[0m\u001b[37m\u001b[0m \u001b[1m0s\u001b[0m 11ms/step - loss: 1.2305 - mae: 0.8038 - val_loss: 0.1859 - val_mae: 0.3350\n",
      "Epoch 48/150\n",
      "\u001b[1m10/10\u001b[0m \u001b[32m━━━━━━━━━━━━━━━━━━━━\u001b[0m\u001b[37m\u001b[0m \u001b[1m0s\u001b[0m 10ms/step - loss: 0.9582 - mae: 0.7255 - val_loss: 0.1710 - val_mae: 0.3287\n",
      "Epoch 49/150\n",
      "\u001b[1m10/10\u001b[0m \u001b[32m━━━━━━━━━━━━━━━━━━━━\u001b[0m\u001b[37m\u001b[0m \u001b[1m0s\u001b[0m 10ms/step - loss: 0.9878 - mae: 0.7342 - val_loss: 0.2240 - val_mae: 0.3544\n",
      "Epoch 50/150\n",
      "\u001b[1m10/10\u001b[0m \u001b[32m━━━━━━━━━━━━━━━━━━━━\u001b[0m\u001b[37m\u001b[0m \u001b[1m0s\u001b[0m 9ms/step - loss: 0.9891 - mae: 0.7264 - val_loss: 0.2583 - val_mae: 0.3706\n",
      "Epoch 51/150\n",
      "\u001b[1m10/10\u001b[0m \u001b[32m━━━━━━━━━━━━━━━━━━━━\u001b[0m\u001b[37m\u001b[0m \u001b[1m0s\u001b[0m 8ms/step - loss: 1.4361 - mae: 0.8113 - val_loss: 0.2285 - val_mae: 0.3474\n",
      "Epoch 52/150\n",
      "\u001b[1m10/10\u001b[0m \u001b[32m━━━━━━━━━━━━━━━━━━━━\u001b[0m\u001b[37m\u001b[0m \u001b[1m0s\u001b[0m 10ms/step - loss: 0.7217 - mae: 0.6555 - val_loss: 0.1835 - val_mae: 0.3077\n",
      "Epoch 53/150\n",
      "\u001b[1m10/10\u001b[0m \u001b[32m━━━━━━━━━━━━━━━━━━━━\u001b[0m\u001b[37m\u001b[0m \u001b[1m0s\u001b[0m 8ms/step - loss: 0.7628 - mae: 0.6546 - val_loss: 0.2042 - val_mae: 0.3263\n",
      "Epoch 54/150\n"
     ]
    },
    {
     "name": "stdout",
     "output_type": "stream",
     "text": [
      "\u001b[1m10/10\u001b[0m \u001b[32m━━━━━━━━━━━━━━━━━━━━\u001b[0m\u001b[37m\u001b[0m \u001b[1m0s\u001b[0m 9ms/step - loss: 0.8086 - mae: 0.6885 - val_loss: 0.2090 - val_mae: 0.3309\n",
      "Epoch 55/150\n",
      "\u001b[1m10/10\u001b[0m \u001b[32m━━━━━━━━━━━━━━━━━━━━\u001b[0m\u001b[37m\u001b[0m \u001b[1m0s\u001b[0m 10ms/step - loss: 0.7533 - mae: 0.6413 - val_loss: 0.1958 - val_mae: 0.3214\n",
      "Epoch 56/150\n",
      "\u001b[1m10/10\u001b[0m \u001b[32m━━━━━━━━━━━━━━━━━━━━\u001b[0m\u001b[37m\u001b[0m \u001b[1m0s\u001b[0m 9ms/step - loss: 0.5854 - mae: 0.5587 - val_loss: 0.1916 - val_mae: 0.3207\n",
      "Epoch 57/150\n",
      "\u001b[1m10/10\u001b[0m \u001b[32m━━━━━━━━━━━━━━━━━━━━\u001b[0m\u001b[37m\u001b[0m \u001b[1m0s\u001b[0m 9ms/step - loss: 0.7440 - mae: 0.6594 - val_loss: 0.1812 - val_mae: 0.3150\n",
      "Epoch 58/150\n",
      "\u001b[1m10/10\u001b[0m \u001b[32m━━━━━━━━━━━━━━━━━━━━\u001b[0m\u001b[37m\u001b[0m \u001b[1m0s\u001b[0m 8ms/step - loss: 0.8410 - mae: 0.6652 - val_loss: 0.1794 - val_mae: 0.3170\n",
      "Epoch 59/150\n",
      "\u001b[1m10/10\u001b[0m \u001b[32m━━━━━━━━━━━━━━━━━━━━\u001b[0m\u001b[37m\u001b[0m \u001b[1m0s\u001b[0m 8ms/step - loss: 0.6891 - mae: 0.6111 - val_loss: 0.1860 - val_mae: 0.3268\n",
      "Epoch 60/150\n",
      "\u001b[1m10/10\u001b[0m \u001b[32m━━━━━━━━━━━━━━━━━━━━\u001b[0m\u001b[37m\u001b[0m \u001b[1m0s\u001b[0m 9ms/step - loss: 0.6791 - mae: 0.5773 - val_loss: 0.1755 - val_mae: 0.3192\n",
      "Epoch 61/150\n",
      "\u001b[1m10/10\u001b[0m \u001b[32m━━━━━━━━━━━━━━━━━━━━\u001b[0m\u001b[37m\u001b[0m \u001b[1m0s\u001b[0m 9ms/step - loss: 0.6088 - mae: 0.5588 - val_loss: 0.1788 - val_mae: 0.3219\n",
      "Epoch 62/150\n",
      "\u001b[1m10/10\u001b[0m \u001b[32m━━━━━━━━━━━━━━━━━━━━\u001b[0m\u001b[37m\u001b[0m \u001b[1m0s\u001b[0m 10ms/step - loss: 0.5292 - mae: 0.5120 - val_loss: 0.1857 - val_mae: 0.3281\n",
      "Epoch 63/150\n",
      "\u001b[1m10/10\u001b[0m \u001b[32m━━━━━━━━━━━━━━━━━━━━\u001b[0m\u001b[37m\u001b[0m \u001b[1m0s\u001b[0m 10ms/step - loss: 0.7757 - mae: 0.6417 - val_loss: 0.1917 - val_mae: 0.3326\n",
      "Epoch 64/150\n",
      "\u001b[1m10/10\u001b[0m \u001b[32m━━━━━━━━━━━━━━━━━━━━\u001b[0m\u001b[37m\u001b[0m \u001b[1m0s\u001b[0m 8ms/step - loss: 0.5114 - mae: 0.5305 - val_loss: 0.1917 - val_mae: 0.3330\n",
      "Epoch 65/150\n",
      "\u001b[1m10/10\u001b[0m \u001b[32m━━━━━━━━━━━━━━━━━━━━\u001b[0m\u001b[37m\u001b[0m \u001b[1m0s\u001b[0m 8ms/step - loss: 0.5752 - mae: 0.5469 - val_loss: 0.1923 - val_mae: 0.3352\n",
      "Epoch 66/150\n",
      "\u001b[1m10/10\u001b[0m \u001b[32m━━━━━━━━━━━━━━━━━━━━\u001b[0m\u001b[37m\u001b[0m \u001b[1m0s\u001b[0m 9ms/step - loss: 0.4934 - mae: 0.5057 - val_loss: 0.1954 - val_mae: 0.3390\n",
      "Epoch 67/150\n",
      "\u001b[1m10/10\u001b[0m \u001b[32m━━━━━━━━━━━━━━━━━━━━\u001b[0m\u001b[37m\u001b[0m \u001b[1m0s\u001b[0m 12ms/step - loss: 0.5234 - mae: 0.5113 - val_loss: 0.1907 - val_mae: 0.3349\n",
      "Epoch 68/150\n",
      "\u001b[1m10/10\u001b[0m \u001b[32m━━━━━━━━━━━━━━━━━━━━\u001b[0m\u001b[37m\u001b[0m \u001b[1m0s\u001b[0m 12ms/step - loss: 0.3841 - mae: 0.4739 - val_loss: 0.1861 - val_mae: 0.3313\n",
      "Epoch 69/150\n",
      "\u001b[1m10/10\u001b[0m \u001b[32m━━━━━━━━━━━━━━━━━━━━\u001b[0m\u001b[37m\u001b[0m \u001b[1m0s\u001b[0m 12ms/step - loss: 0.6049 - mae: 0.5585 - val_loss: 0.1781 - val_mae: 0.3265\n",
      "Epoch 70/150\n",
      "\u001b[1m10/10\u001b[0m \u001b[32m━━━━━━━━━━━━━━━━━━━━\u001b[0m\u001b[37m\u001b[0m \u001b[1m0s\u001b[0m 9ms/step - loss: 0.4300 - mae: 0.4836 - val_loss: 0.1722 - val_mae: 0.3223\n",
      "Epoch 71/150\n",
      "\u001b[1m10/10\u001b[0m \u001b[32m━━━━━━━━━━━━━━━━━━━━\u001b[0m\u001b[37m\u001b[0m \u001b[1m0s\u001b[0m 9ms/step - loss: 0.4788 - mae: 0.5034 - val_loss: 0.1693 - val_mae: 0.3207\n",
      "Epoch 72/150\n",
      "\u001b[1m10/10\u001b[0m \u001b[32m━━━━━━━━━━━━━━━━━━━━\u001b[0m\u001b[37m\u001b[0m \u001b[1m0s\u001b[0m 9ms/step - loss: 0.6833 - mae: 0.5529 - val_loss: 0.1693 - val_mae: 0.3224\n",
      "Epoch 73/150\n",
      "\u001b[1m10/10\u001b[0m \u001b[32m━━━━━━━━━━━━━━━━━━━━\u001b[0m\u001b[37m\u001b[0m \u001b[1m0s\u001b[0m 8ms/step - loss: 0.4303 - mae: 0.4912 - val_loss: 0.1690 - val_mae: 0.3236\n",
      "Epoch 74/150\n",
      "\u001b[1m10/10\u001b[0m \u001b[32m━━━━━━━━━━━━━━━━━━━━\u001b[0m\u001b[37m\u001b[0m \u001b[1m0s\u001b[0m 10ms/step - loss: 0.4413 - mae: 0.4921 - val_loss: 0.1712 - val_mae: 0.3262\n",
      "Epoch 75/150\n",
      "\u001b[1m10/10\u001b[0m \u001b[32m━━━━━━━━━━━━━━━━━━━━\u001b[0m\u001b[37m\u001b[0m \u001b[1m0s\u001b[0m 10ms/step - loss: 0.4805 - mae: 0.5051 - val_loss: 0.1699 - val_mae: 0.3256\n",
      "Epoch 76/150\n",
      "\u001b[1m10/10\u001b[0m \u001b[32m━━━━━━━━━━━━━━━━━━━━\u001b[0m\u001b[37m\u001b[0m \u001b[1m0s\u001b[0m 9ms/step - loss: 0.3627 - mae: 0.4579 - val_loss: 0.1674 - val_mae: 0.3243\n",
      "Epoch 77/150\n",
      "\u001b[1m10/10\u001b[0m \u001b[32m━━━━━━━━━━━━━━━━━━━━\u001b[0m\u001b[37m\u001b[0m \u001b[1m0s\u001b[0m 11ms/step - loss: 0.4490 - mae: 0.4998 - val_loss: 0.1655 - val_mae: 0.3234\n",
      "Epoch 78/150\n",
      "\u001b[1m10/10\u001b[0m \u001b[32m━━━━━━━━━━━━━━━━━━━━\u001b[0m\u001b[37m\u001b[0m \u001b[1m0s\u001b[0m 10ms/step - loss: 0.3975 - mae: 0.4621 - val_loss: 0.1634 - val_mae: 0.3215\n",
      "Epoch 79/150\n",
      "\u001b[1m10/10\u001b[0m \u001b[32m━━━━━━━━━━━━━━━━━━━━\u001b[0m\u001b[37m\u001b[0m \u001b[1m0s\u001b[0m 9ms/step - loss: 0.4052 - mae: 0.4615 - val_loss: 0.1618 - val_mae: 0.3210\n",
      "Epoch 80/150\n",
      "\u001b[1m10/10\u001b[0m \u001b[32m━━━━━━━━━━━━━━━━━━━━\u001b[0m\u001b[37m\u001b[0m \u001b[1m0s\u001b[0m 8ms/step - loss: 0.3443 - mae: 0.4247 - val_loss: 0.1605 - val_mae: 0.3199\n",
      "Epoch 81/150\n",
      "\u001b[1m10/10\u001b[0m \u001b[32m━━━━━━━━━━━━━━━━━━━━\u001b[0m\u001b[37m\u001b[0m \u001b[1m0s\u001b[0m 8ms/step - loss: 0.3563 - mae: 0.4397 - val_loss: 0.1586 - val_mae: 0.3174\n",
      "Epoch 82/150\n",
      "\u001b[1m10/10\u001b[0m \u001b[32m━━━━━━━━━━━━━━━━━━━━\u001b[0m\u001b[37m\u001b[0m \u001b[1m0s\u001b[0m 9ms/step - loss: 0.3529 - mae: 0.4318 - val_loss: 0.1572 - val_mae: 0.3169\n",
      "Epoch 83/150\n",
      "\u001b[1m10/10\u001b[0m \u001b[32m━━━━━━━━━━━━━━━━━━━━\u001b[0m\u001b[37m\u001b[0m \u001b[1m0s\u001b[0m 9ms/step - loss: 0.4050 - mae: 0.4696 - val_loss: 0.1568 - val_mae: 0.3166\n",
      "Epoch 84/150\n",
      "\u001b[1m10/10\u001b[0m \u001b[32m━━━━━━━━━━━━━━━━━━━━\u001b[0m\u001b[37m\u001b[0m \u001b[1m0s\u001b[0m 10ms/step - loss: 0.3056 - mae: 0.4130 - val_loss: 0.1564 - val_mae: 0.3164\n",
      "Epoch 85/150\n",
      "\u001b[1m10/10\u001b[0m \u001b[32m━━━━━━━━━━━━━━━━━━━━\u001b[0m\u001b[37m\u001b[0m \u001b[1m0s\u001b[0m 9ms/step - loss: 0.3591 - mae: 0.4322 - val_loss: 0.1550 - val_mae: 0.3155\n",
      "Epoch 86/150\n",
      "\u001b[1m10/10\u001b[0m \u001b[32m━━━━━━━━━━━━━━━━━━━━\u001b[0m\u001b[37m\u001b[0m \u001b[1m0s\u001b[0m 9ms/step - loss: 0.3089 - mae: 0.4141 - val_loss: 0.1537 - val_mae: 0.3149\n",
      "Epoch 87/150\n",
      "\u001b[1m10/10\u001b[0m \u001b[32m━━━━━━━━━━━━━━━━━━━━\u001b[0m\u001b[37m\u001b[0m \u001b[1m0s\u001b[0m 10ms/step - loss: 0.3421 - mae: 0.4221 - val_loss: 0.1529 - val_mae: 0.3144\n",
      "Epoch 88/150\n",
      "\u001b[1m10/10\u001b[0m \u001b[32m━━━━━━━━━━━━━━━━━━━━\u001b[0m\u001b[37m\u001b[0m \u001b[1m0s\u001b[0m 10ms/step - loss: 0.3421 - mae: 0.4368 - val_loss: 0.1529 - val_mae: 0.3153\n",
      "Epoch 89/150\n",
      "\u001b[1m10/10\u001b[0m \u001b[32m━━━━━━━━━━━━━━━━━━━━\u001b[0m\u001b[37m\u001b[0m \u001b[1m0s\u001b[0m 10ms/step - loss: 0.2708 - mae: 0.4035 - val_loss: 0.1521 - val_mae: 0.3149\n",
      "Epoch 90/150\n",
      "\u001b[1m10/10\u001b[0m \u001b[32m━━━━━━━━━━━━━━━━━━━━\u001b[0m\u001b[37m\u001b[0m \u001b[1m0s\u001b[0m 9ms/step - loss: 0.2830 - mae: 0.4078 - val_loss: 0.1514 - val_mae: 0.3149\n",
      "Epoch 91/150\n",
      "\u001b[1m10/10\u001b[0m \u001b[32m━━━━━━━━━━━━━━━━━━━━\u001b[0m\u001b[37m\u001b[0m \u001b[1m0s\u001b[0m 9ms/step - loss: 0.2393 - mae: 0.3690 - val_loss: 0.1496 - val_mae: 0.3134\n",
      "Epoch 92/150\n",
      "\u001b[1m10/10\u001b[0m \u001b[32m━━━━━━━━━━━━━━━━━━━━\u001b[0m\u001b[37m\u001b[0m \u001b[1m0s\u001b[0m 9ms/step - loss: 0.2309 - mae: 0.3559 - val_loss: 0.1485 - val_mae: 0.3124\n",
      "Epoch 93/150\n",
      "\u001b[1m10/10\u001b[0m \u001b[32m━━━━━━━━━━━━━━━━━━━━\u001b[0m\u001b[37m\u001b[0m \u001b[1m0s\u001b[0m 8ms/step - loss: 0.2173 - mae: 0.3654 - val_loss: 0.1476 - val_mae: 0.3113\n",
      "Epoch 94/150\n",
      "\u001b[1m10/10\u001b[0m \u001b[32m━━━━━━━━━━━━━━━━━━━━\u001b[0m\u001b[37m\u001b[0m \u001b[1m0s\u001b[0m 8ms/step - loss: 0.3016 - mae: 0.3926 - val_loss: 0.1468 - val_mae: 0.3114\n",
      "Epoch 95/150\n",
      "\u001b[1m10/10\u001b[0m \u001b[32m━━━━━━━━━━━━━━━━━━━━\u001b[0m\u001b[37m\u001b[0m \u001b[1m0s\u001b[0m 8ms/step - loss: 0.3971 - mae: 0.4384 - val_loss: 0.1465 - val_mae: 0.3116\n",
      "Epoch 96/150\n",
      "\u001b[1m10/10\u001b[0m \u001b[32m━━━━━━━━━━━━━━━━━━━━\u001b[0m\u001b[37m\u001b[0m \u001b[1m0s\u001b[0m 11ms/step - loss: 0.2904 - mae: 0.4068 - val_loss: 0.1457 - val_mae: 0.3108\n",
      "Epoch 97/150\n",
      "\u001b[1m10/10\u001b[0m \u001b[32m━━━━━━━━━━━━━━━━━━━━\u001b[0m\u001b[37m\u001b[0m \u001b[1m0s\u001b[0m 10ms/step - loss: 0.2674 - mae: 0.3940 - val_loss: 0.1450 - val_mae: 0.3109\n",
      "Epoch 98/150\n",
      "\u001b[1m10/10\u001b[0m \u001b[32m━━━━━━━━━━━━━━━━━━━━\u001b[0m\u001b[37m\u001b[0m \u001b[1m0s\u001b[0m 10ms/step - loss: 0.4100 - mae: 0.4488 - val_loss: 0.1441 - val_mae: 0.3109\n",
      "Epoch 99/150\n",
      "\u001b[1m10/10\u001b[0m \u001b[32m━━━━━━━━━━━━━━━━━━━━\u001b[0m\u001b[37m\u001b[0m \u001b[1m0s\u001b[0m 11ms/step - loss: 0.2823 - mae: 0.4109 - val_loss: 0.1437 - val_mae: 0.3114\n",
      "Epoch 100/150\n",
      "\u001b[1m10/10\u001b[0m \u001b[32m━━━━━━━━━━━━━━━━━━━━\u001b[0m\u001b[37m\u001b[0m \u001b[1m0s\u001b[0m 8ms/step - loss: 0.3032 - mae: 0.4125 - val_loss: 0.1433 - val_mae: 0.3119\n",
      "Epoch 101/150\n",
      "\u001b[1m10/10\u001b[0m \u001b[32m━━━━━━━━━━━━━━━━━━━━\u001b[0m\u001b[37m\u001b[0m \u001b[1m0s\u001b[0m 8ms/step - loss: 0.2356 - mae: 0.3747 - val_loss: 0.1426 - val_mae: 0.3114\n",
      "Epoch 102/150\n",
      "\u001b[1m10/10\u001b[0m \u001b[32m━━━━━━━━━━━━━━━━━━━━\u001b[0m\u001b[37m\u001b[0m \u001b[1m0s\u001b[0m 10ms/step - loss: 0.2578 - mae: 0.3691 - val_loss: 0.1417 - val_mae: 0.3103\n",
      "Epoch 103/150\n",
      "\u001b[1m10/10\u001b[0m \u001b[32m━━━━━━━━━━━━━━━━━━━━\u001b[0m\u001b[37m\u001b[0m \u001b[1m0s\u001b[0m 12ms/step - loss: 0.2608 - mae: 0.3864 - val_loss: 0.1414 - val_mae: 0.3101\n",
      "Epoch 104/150\n",
      "\u001b[1m10/10\u001b[0m \u001b[32m━━━━━━━━━━━━━━━━━━━━\u001b[0m\u001b[37m\u001b[0m \u001b[1m0s\u001b[0m 11ms/step - loss: 0.2213 - mae: 0.3637 - val_loss: 0.1408 - val_mae: 0.3102\n",
      "Epoch 105/150\n",
      "\u001b[1m10/10\u001b[0m \u001b[32m━━━━━━━━━━━━━━━━━━━━\u001b[0m\u001b[37m\u001b[0m \u001b[1m0s\u001b[0m 13ms/step - loss: 0.2344 - mae: 0.3694 - val_loss: 0.1398 - val_mae: 0.3091\n",
      "Epoch 106/150\n",
      "\u001b[1m10/10\u001b[0m \u001b[32m━━━━━━━━━━━━━━━━━━━━\u001b[0m\u001b[37m\u001b[0m \u001b[1m0s\u001b[0m 13ms/step - loss: 0.2417 - mae: 0.3804 - val_loss: 0.1399 - val_mae: 0.3101\n",
      "Epoch 107/150\n",
      "\u001b[1m10/10\u001b[0m \u001b[32m━━━━━━━━━━━━━━━━━━━━\u001b[0m\u001b[37m\u001b[0m \u001b[1m0s\u001b[0m 13ms/step - loss: 0.1892 - mae: 0.3471 - val_loss: 0.1397 - val_mae: 0.3105\n"
     ]
    },
    {
     "name": "stdout",
     "output_type": "stream",
     "text": [
      "Epoch 108/150\n",
      "\u001b[1m10/10\u001b[0m \u001b[32m━━━━━━━━━━━━━━━━━━━━\u001b[0m\u001b[37m\u001b[0m \u001b[1m0s\u001b[0m 9ms/step - loss: 0.2746 - mae: 0.3952 - val_loss: 0.1397 - val_mae: 0.3108\n",
      "Epoch 109/150\n",
      "\u001b[1m10/10\u001b[0m \u001b[32m━━━━━━━━━━━━━━━━━━━━\u001b[0m\u001b[37m\u001b[0m \u001b[1m0s\u001b[0m 8ms/step - loss: 0.2438 - mae: 0.3580 - val_loss: 0.1390 - val_mae: 0.3104\n",
      "Epoch 110/150\n",
      "\u001b[1m10/10\u001b[0m \u001b[32m━━━━━━━━━━━━━━━━━━━━\u001b[0m\u001b[37m\u001b[0m \u001b[1m0s\u001b[0m 9ms/step - loss: 0.2185 - mae: 0.3615 - val_loss: 0.1375 - val_mae: 0.3087\n",
      "Epoch 111/150\n",
      "\u001b[1m10/10\u001b[0m \u001b[32m━━━━━━━━━━━━━━━━━━━━\u001b[0m\u001b[37m\u001b[0m \u001b[1m0s\u001b[0m 8ms/step - loss: 0.2129 - mae: 0.3519 - val_loss: 0.1358 - val_mae: 0.3070\n",
      "Epoch 112/150\n",
      "\u001b[1m10/10\u001b[0m \u001b[32m━━━━━━━━━━━━━━━━━━━━\u001b[0m\u001b[37m\u001b[0m \u001b[1m0s\u001b[0m 8ms/step - loss: 0.2599 - mae: 0.3681 - val_loss: 0.1341 - val_mae: 0.3050\n",
      "Epoch 113/150\n",
      "\u001b[1m10/10\u001b[0m \u001b[32m━━━━━━━━━━━━━━━━━━━━\u001b[0m\u001b[37m\u001b[0m \u001b[1m0s\u001b[0m 8ms/step - loss: 0.2034 - mae: 0.3551 - val_loss: 0.1327 - val_mae: 0.3038\n",
      "Epoch 114/150\n",
      "\u001b[1m10/10\u001b[0m \u001b[32m━━━━━━━━━━━━━━━━━━━━\u001b[0m\u001b[37m\u001b[0m \u001b[1m0s\u001b[0m 11ms/step - loss: 0.2589 - mae: 0.3706 - val_loss: 0.1307 - val_mae: 0.3015\n",
      "Epoch 115/150\n",
      "\u001b[1m10/10\u001b[0m \u001b[32m━━━━━━━━━━━━━━━━━━━━\u001b[0m\u001b[37m\u001b[0m \u001b[1m0s\u001b[0m 10ms/step - loss: 0.2168 - mae: 0.3634 - val_loss: 0.1311 - val_mae: 0.3020\n",
      "Epoch 116/150\n",
      "\u001b[1m10/10\u001b[0m \u001b[32m━━━━━━━━━━━━━━━━━━━━\u001b[0m\u001b[37m\u001b[0m \u001b[1m0s\u001b[0m 9ms/step - loss: 0.1864 - mae: 0.3422 - val_loss: 0.1317 - val_mae: 0.3032\n",
      "Epoch 117/150\n",
      "\u001b[1m10/10\u001b[0m \u001b[32m━━━━━━━━━━━━━━━━━━━━\u001b[0m\u001b[37m\u001b[0m \u001b[1m0s\u001b[0m 9ms/step - loss: 0.2653 - mae: 0.3821 - val_loss: 0.1319 - val_mae: 0.3045\n",
      "Epoch 118/150\n",
      "\u001b[1m10/10\u001b[0m \u001b[32m━━━━━━━━━━━━━━━━━━━━\u001b[0m\u001b[37m\u001b[0m \u001b[1m0s\u001b[0m 10ms/step - loss: 0.2036 - mae: 0.3343 - val_loss: 0.1296 - val_mae: 0.3024\n",
      "Epoch 119/150\n",
      "\u001b[1m10/10\u001b[0m \u001b[32m━━━━━━━━━━━━━━━━━━━━\u001b[0m\u001b[37m\u001b[0m \u001b[1m0s\u001b[0m 10ms/step - loss: 0.2654 - mae: 0.3715 - val_loss: 0.1269 - val_mae: 0.3000\n",
      "Epoch 120/150\n",
      "\u001b[1m10/10\u001b[0m \u001b[32m━━━━━━━━━━━━━━━━━━━━\u001b[0m\u001b[37m\u001b[0m \u001b[1m0s\u001b[0m 10ms/step - loss: 0.1799 - mae: 0.3258 - val_loss: 0.1251 - val_mae: 0.2982\n",
      "Epoch 121/150\n",
      "\u001b[1m10/10\u001b[0m \u001b[32m━━━━━━━━━━━━━━━━━━━━\u001b[0m\u001b[37m\u001b[0m \u001b[1m0s\u001b[0m 11ms/step - loss: 0.2240 - mae: 0.3549 - val_loss: 0.1243 - val_mae: 0.2982\n",
      "Epoch 122/150\n",
      "\u001b[1m10/10\u001b[0m \u001b[32m━━━━━━━━━━━━━━━━━━━━\u001b[0m\u001b[37m\u001b[0m \u001b[1m0s\u001b[0m 10ms/step - loss: 0.1917 - mae: 0.3431 - val_loss: 0.1235 - val_mae: 0.2980\n",
      "Epoch 123/150\n",
      "\u001b[1m10/10\u001b[0m \u001b[32m━━━━━━━━━━━━━━━━━━━━\u001b[0m\u001b[37m\u001b[0m \u001b[1m0s\u001b[0m 10ms/step - loss: 0.1958 - mae: 0.3371 - val_loss: 0.1224 - val_mae: 0.2966\n",
      "Epoch 124/150\n",
      "\u001b[1m10/10\u001b[0m \u001b[32m━━━━━━━━━━━━━━━━━━━━\u001b[0m\u001b[37m\u001b[0m \u001b[1m0s\u001b[0m 10ms/step - loss: 0.1845 - mae: 0.3367 - val_loss: 0.1208 - val_mae: 0.2949\n",
      "Epoch 125/150\n",
      "\u001b[1m10/10\u001b[0m \u001b[32m━━━━━━━━━━━━━━━━━━━━\u001b[0m\u001b[37m\u001b[0m \u001b[1m0s\u001b[0m 9ms/step - loss: 0.1719 - mae: 0.3254 - val_loss: 0.1180 - val_mae: 0.2913\n",
      "Epoch 126/150\n",
      "\u001b[1m10/10\u001b[0m \u001b[32m━━━━━━━━━━━━━━━━━━━━\u001b[0m\u001b[37m\u001b[0m \u001b[1m0s\u001b[0m 8ms/step - loss: 0.1806 - mae: 0.3296 - val_loss: 0.1153 - val_mae: 0.2877\n",
      "Epoch 127/150\n",
      "\u001b[1m10/10\u001b[0m \u001b[32m━━━━━━━━━━━━━━━━━━━━\u001b[0m\u001b[37m\u001b[0m \u001b[1m0s\u001b[0m 9ms/step - loss: 0.2100 - mae: 0.3504 - val_loss: 0.1121 - val_mae: 0.2827\n",
      "Epoch 128/150\n",
      "\u001b[1m10/10\u001b[0m \u001b[32m━━━━━━━━━━━━━━━━━━━━\u001b[0m\u001b[37m\u001b[0m \u001b[1m0s\u001b[0m 9ms/step - loss: 0.2428 - mae: 0.3508 - val_loss: 0.1097 - val_mae: 0.2801\n",
      "Epoch 129/150\n",
      "\u001b[1m10/10\u001b[0m \u001b[32m━━━━━━━━━━━━━━━━━━━━\u001b[0m\u001b[37m\u001b[0m \u001b[1m0s\u001b[0m 9ms/step - loss: 0.1724 - mae: 0.3233 - val_loss: 0.1076 - val_mae: 0.2773\n",
      "Epoch 130/150\n",
      "\u001b[1m10/10\u001b[0m \u001b[32m━━━━━━━━━━━━━━━━━━━━\u001b[0m\u001b[37m\u001b[0m \u001b[1m0s\u001b[0m 10ms/step - loss: 0.1817 - mae: 0.3302 - val_loss: 0.1058 - val_mae: 0.2749\n",
      "Epoch 131/150\n",
      "\u001b[1m10/10\u001b[0m \u001b[32m━━━━━━━━━━━━━━━━━━━━\u001b[0m\u001b[37m\u001b[0m \u001b[1m0s\u001b[0m 10ms/step - loss: 0.2842 - mae: 0.3639 - val_loss: 0.1041 - val_mae: 0.2732\n",
      "Epoch 132/150\n",
      "\u001b[1m10/10\u001b[0m \u001b[32m━━━━━━━━━━━━━━━━━━━━\u001b[0m\u001b[37m\u001b[0m \u001b[1m0s\u001b[0m 10ms/step - loss: 0.1813 - mae: 0.3250 - val_loss: 0.1025 - val_mae: 0.2716\n",
      "Epoch 133/150\n",
      "\u001b[1m10/10\u001b[0m \u001b[32m━━━━━━━━━━━━━━━━━━━━\u001b[0m\u001b[37m\u001b[0m \u001b[1m0s\u001b[0m 10ms/step - loss: 0.1662 - mae: 0.3044 - val_loss: 0.1011 - val_mae: 0.2700\n",
      "Epoch 134/150\n",
      "\u001b[1m10/10\u001b[0m \u001b[32m━━━━━━━━━━━━━━━━━━━━\u001b[0m\u001b[37m\u001b[0m \u001b[1m0s\u001b[0m 9ms/step - loss: 0.1911 - mae: 0.3342 - val_loss: 0.0992 - val_mae: 0.2680\n",
      "Epoch 135/150\n",
      "\u001b[1m10/10\u001b[0m \u001b[32m━━━━━━━━━━━━━━━━━━━━\u001b[0m\u001b[37m\u001b[0m \u001b[1m0s\u001b[0m 9ms/step - loss: 0.1897 - mae: 0.3244 - val_loss: 0.0979 - val_mae: 0.2664\n",
      "Epoch 136/150\n",
      "\u001b[1m10/10\u001b[0m \u001b[32m━━━━━━━━━━━━━━━━━━━━\u001b[0m\u001b[37m\u001b[0m \u001b[1m0s\u001b[0m 9ms/step - loss: 0.1814 - mae: 0.3164 - val_loss: 0.0964 - val_mae: 0.2645\n",
      "Epoch 137/150\n",
      "\u001b[1m10/10\u001b[0m \u001b[32m━━━━━━━━━━━━━━━━━━━━\u001b[0m\u001b[37m\u001b[0m \u001b[1m0s\u001b[0m 12ms/step - loss: 0.1909 - mae: 0.3277 - val_loss: 0.0954 - val_mae: 0.2636\n",
      "Epoch 138/150\n",
      "\u001b[1m10/10\u001b[0m \u001b[32m━━━━━━━━━━━━━━━━━━━━\u001b[0m\u001b[37m\u001b[0m \u001b[1m0s\u001b[0m 11ms/step - loss: 0.1546 - mae: 0.3027 - val_loss: 0.0944 - val_mae: 0.2624\n",
      "Epoch 139/150\n",
      "\u001b[1m10/10\u001b[0m \u001b[32m━━━━━━━━━━━━━━━━━━━━\u001b[0m\u001b[37m\u001b[0m \u001b[1m0s\u001b[0m 9ms/step - loss: 0.1707 - mae: 0.3184 - val_loss: 0.0940 - val_mae: 0.2622\n",
      "Epoch 140/150\n",
      "\u001b[1m10/10\u001b[0m \u001b[32m━━━━━━━━━━━━━━━━━━━━\u001b[0m\u001b[37m\u001b[0m \u001b[1m0s\u001b[0m 8ms/step - loss: 0.1890 - mae: 0.3361 - val_loss: 0.0930 - val_mae: 0.2610\n",
      "Epoch 141/150\n",
      "\u001b[1m10/10\u001b[0m \u001b[32m━━━━━━━━━━━━━━━━━━━━\u001b[0m\u001b[37m\u001b[0m \u001b[1m0s\u001b[0m 8ms/step - loss: 0.1994 - mae: 0.3147 - val_loss: 0.0912 - val_mae: 0.2584\n",
      "Epoch 142/150\n",
      "\u001b[1m10/10\u001b[0m \u001b[32m━━━━━━━━━━━━━━━━━━━━\u001b[0m\u001b[37m\u001b[0m \u001b[1m0s\u001b[0m 8ms/step - loss: 0.1534 - mae: 0.2975 - val_loss: 0.0885 - val_mae: 0.2549\n",
      "Epoch 143/150\n",
      "\u001b[1m10/10\u001b[0m \u001b[32m━━━━━━━━━━━━━━━━━━━━\u001b[0m\u001b[37m\u001b[0m \u001b[1m0s\u001b[0m 11ms/step - loss: 0.1413 - mae: 0.2885 - val_loss: 0.0853 - val_mae: 0.2495\n",
      "Epoch 144/150\n",
      "\u001b[1m10/10\u001b[0m \u001b[32m━━━━━━━━━━━━━━━━━━━━\u001b[0m\u001b[37m\u001b[0m \u001b[1m0s\u001b[0m 9ms/step - loss: 0.1636 - mae: 0.3006 - val_loss: 0.0846 - val_mae: 0.2489\n",
      "Epoch 145/150\n",
      "\u001b[1m10/10\u001b[0m \u001b[32m━━━━━━━━━━━━━━━━━━━━\u001b[0m\u001b[37m\u001b[0m \u001b[1m0s\u001b[0m 10ms/step - loss: 0.1561 - mae: 0.2956 - val_loss: 0.0834 - val_mae: 0.2475\n",
      "Epoch 146/150\n",
      "\u001b[1m10/10\u001b[0m \u001b[32m━━━━━━━━━━━━━━━━━━━━\u001b[0m\u001b[37m\u001b[0m \u001b[1m0s\u001b[0m 8ms/step - loss: 0.1434 - mae: 0.2827 - val_loss: 0.0806 - val_mae: 0.2432\n",
      "Epoch 147/150\n",
      "\u001b[1m10/10\u001b[0m \u001b[32m━━━━━━━━━━━━━━━━━━━━\u001b[0m\u001b[37m\u001b[0m \u001b[1m0s\u001b[0m 9ms/step - loss: 0.1487 - mae: 0.3020 - val_loss: 0.0798 - val_mae: 0.2420\n",
      "Epoch 148/150\n",
      "\u001b[1m10/10\u001b[0m \u001b[32m━━━━━━━━━━━━━━━━━━━━\u001b[0m\u001b[37m\u001b[0m \u001b[1m0s\u001b[0m 11ms/step - loss: 0.1252 - mae: 0.2750 - val_loss: 0.0803 - val_mae: 0.2436\n",
      "Epoch 149/150\n",
      "\u001b[1m10/10\u001b[0m \u001b[32m━━━━━━━━━━━━━━━━━━━━\u001b[0m\u001b[37m\u001b[0m \u001b[1m0s\u001b[0m 9ms/step - loss: 0.1352 - mae: 0.2782 - val_loss: 0.0806 - val_mae: 0.2443\n",
      "Epoch 150/150\n",
      "\u001b[1m10/10\u001b[0m \u001b[32m━━━━━━━━━━━━━━━━━━━━\u001b[0m\u001b[37m\u001b[0m \u001b[1m0s\u001b[0m 8ms/step - loss: 0.1233 - mae: 0.2645 - val_loss: 0.0796 - val_mae: 0.2426\n"
     ]
    },
    {
     "data": {
      "text/plain": [
       "<keras.src.callbacks.history.History at 0x25ddb685d00>"
      ]
     },
     "execution_count": 42,
     "metadata": {},
     "output_type": "execute_result"
    }
   ],
   "source": [
    "# Train the model\n",
    "reg_model.fit(X_train, y_reg_train, epochs=150, batch_size=16, validation_data=(X_test, y_reg_test))"
   ]
  },
  {
   "cell_type": "markdown",
   "id": "4bcaecb7",
   "metadata": {},
   "source": [
    "## Model Evaluation"
   ]
  },
  {
   "cell_type": "code",
   "execution_count": 43,
   "id": "c17af6b8",
   "metadata": {},
   "outputs": [
    {
     "name": "stdout",
     "output_type": "stream",
     "text": [
      "Regression - Loss: 0.0796, MSE: 0.2426\n"
     ]
    }
   ],
   "source": [
    "# Evaluate regression\n",
    "loss, mse = reg_model.evaluate(X_test, y_reg_test, verbose=0)\n",
    "print(f\"Regression - Loss: {loss:.4f}, MSE: {mse:.4f}\")"
   ]
  },
  {
   "cell_type": "markdown",
   "id": "62133573",
   "metadata": {},
   "source": [
    "## Save Architecture and Weights"
   ]
  },
  {
   "cell_type": "code",
   "execution_count": 44,
   "id": "f5283422",
   "metadata": {},
   "outputs": [
    {
     "name": "stdout",
     "output_type": "stream",
     "text": [
      "Model saved to reg_model.json + reg_model.weights.h5\n"
     ]
    }
   ],
   "source": [
    "# Save architecture\n",
    "model_json = reg_model.to_json()\n",
    "with open(\"reg_model.json\", \"w\") as json_file:\n",
    "    json_file.write(model_json)\n",
    "\n",
    "# Save weights\n",
    "clf_model.save_weights(\"reg_model.weights.h5\")\n",
    "print(\"Model saved to reg_model.json + reg_model.weights.h5\")"
   ]
  },
  {
   "cell_type": "markdown",
   "id": "ada1185e",
   "metadata": {},
   "source": [
    "## Loading Module"
   ]
  },
  {
   "cell_type": "code",
   "execution_count": 45,
   "id": "9dddf2a0",
   "metadata": {},
   "outputs": [],
   "source": [
    "# If you want to load any model architecture and use it\n",
    "# Or load weights and skip training\n",
    "# Convert the following comments into code and run\n",
    "\n",
    "# Un-comment & Enter the model name below (clf_model or reg_model)\n",
    "# ~~~~~~~~~~~~~~~~~~~~~~~~~\n",
    "# model_name = ?\n",
    "# ~~~~~~~~~~~~~~~~~~~~~~~~~\n",
    "\n",
    "# To Load architecture\n",
    "# Un-comment below block \n",
    "# ~~~~~~~~~~~~~~~~~~~~~~~~~\n",
    "# with open(\"model_name.json\", \"r\") as json_file:\n",
    "#     loaded_model_json = json_file.read()\n",
    "\n",
    "# loaded_model = model_from_json(loaded_model_json)\n",
    "# ~~~~~~~~~~~~~~~~~~~~~~~~~\n",
    "\n",
    "# To Load weights\n",
    "# Un-comment below block \n",
    "# ~~~~~~~~~~~~~~~~~~~~~~~~~\n",
    "# loaded_model.load_weights(\"model_name.weights.h5\")\n",
    "# print(\"Model loaded successfully\")\n",
    "# ~~~~~~~~~~~~~~~~~~~~~~~~~"
   ]
  },
  {
   "cell_type": "markdown",
   "id": "fc5a66b4",
   "metadata": {},
   "source": [
    "## Saving to ONNX"
   ]
  },
  {
   "cell_type": "code",
   "execution_count": 59,
   "id": "f82f04a3",
   "metadata": {},
   "outputs": [
    {
     "name": "stdout",
     "output_type": "stream",
     "text": [
      "INFO:tensorflow:Assets written to: saved_clf_model\\assets\n"
     ]
    },
    {
     "name": "stderr",
     "output_type": "stream",
     "text": [
      "INFO:tensorflow:Assets written to: saved_clf_model\\assets\n"
     ]
    },
    {
     "name": "stdout",
     "output_type": "stream",
     "text": [
      "Saved artifact at 'saved_clf_model'. The following endpoints are available:\n",
      "\n",
      "* Endpoint 'serve'\n",
      "  args_0 (POSITIONAL_ONLY): TensorSpec(shape=(None, 143), dtype=tf.float32, name='keras_tensor')\n",
      "Output Type:\n",
      "  TensorSpec(shape=(None, 13), dtype=tf.float32, name=None)\n",
      "Captures:\n",
      "  2601531920784: TensorSpec(shape=(), dtype=tf.resource, name=None)\n",
      "  2601531921936: TensorSpec(shape=(), dtype=tf.resource, name=None)\n",
      "  2601531923280: TensorSpec(shape=(), dtype=tf.resource, name=None)\n",
      "  2601531921168: TensorSpec(shape=(), dtype=tf.resource, name=None)\n",
      "  2601531922320: TensorSpec(shape=(), dtype=tf.resource, name=None)\n",
      "  2601531923856: TensorSpec(shape=(), dtype=tf.resource, name=None)\n"
     ]
    }
   ],
   "source": [
    "# For classification model\n",
    "clf_model.export(\"saved_clf_model\")  # this is the new way"
   ]
  },
  {
   "cell_type": "code",
   "execution_count": null,
   "id": "7a8baf73",
   "metadata": {},
   "outputs": [],
   "source": [
    "# Go to your directory where the saved model is present\n",
    "# And run the following command in command line interface to create an ONNX file (Un-Comment & Copy the line below)\n",
    "# python -m tf2onnx.convert --saved-model saved_clf_model --output clf_model.onnx --opset 13"
   ]
  },
  {
   "cell_type": "code",
   "execution_count": 62,
   "id": "d9829f99",
   "metadata": {},
   "outputs": [
    {
     "name": "stdout",
     "output_type": "stream",
     "text": [
      "INFO:tensorflow:Assets written to: saved_reg_model\\assets\n"
     ]
    },
    {
     "name": "stderr",
     "output_type": "stream",
     "text": [
      "INFO:tensorflow:Assets written to: saved_reg_model\\assets\n"
     ]
    },
    {
     "name": "stdout",
     "output_type": "stream",
     "text": [
      "Saved artifact at 'saved_reg_model'. The following endpoints are available:\n",
      "\n",
      "* Endpoint 'serve'\n",
      "  args_0 (POSITIONAL_ONLY): TensorSpec(shape=(None, 143), dtype=tf.float32, name='keras_tensor_5')\n",
      "Output Type:\n",
      "  TensorSpec(shape=(None, 3), dtype=tf.float32, name=None)\n",
      "Captures:\n",
      "  2601531926160: TensorSpec(shape=(), dtype=tf.resource, name=None)\n",
      "  2601531931152: TensorSpec(shape=(), dtype=tf.resource, name=None)\n",
      "  2601531929040: TensorSpec(shape=(), dtype=tf.resource, name=None)\n",
      "  2601531930768: TensorSpec(shape=(), dtype=tf.resource, name=None)\n",
      "  2601531926736: TensorSpec(shape=(), dtype=tf.resource, name=None)\n",
      "  2601531931536: TensorSpec(shape=(), dtype=tf.resource, name=None)\n"
     ]
    }
   ],
   "source": [
    "# For classification model\n",
    "reg_model.export(\"saved_reg_model\")  # this is the new way"
   ]
  },
  {
   "cell_type": "code",
   "execution_count": null,
   "id": "6e0c5a79",
   "metadata": {},
   "outputs": [],
   "source": [
    "# Go to your directory where the saved model is present\n",
    "# And run the following command in command line interface to create an ONNX file (Un-Comment & Copy the line below)\n",
    "# python -m tf2onnx.convert --saved-model saved_reg_model --output reg_model.onnx --opset 13"
   ]
  }
 ],
 "metadata": {
  "kernelspec": {
   "display_name": "Python 3 (ipykernel)",
   "language": "python",
   "name": "python3"
  },
  "language_info": {
   "codemirror_mode": {
    "name": "ipython",
    "version": 3
   },
   "file_extension": ".py",
   "mimetype": "text/x-python",
   "name": "python",
   "nbconvert_exporter": "python",
   "pygments_lexer": "ipython3",
   "version": "3.12.6"
  }
 },
 "nbformat": 4,
 "nbformat_minor": 5
}
